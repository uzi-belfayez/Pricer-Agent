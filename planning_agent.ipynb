{
 "cells": [
  {
   "cell_type": "code",
   "execution_count": 19,
   "id": "65fc0518-5897-4eeb-b86e-4e0510d19238",
   "metadata": {},
   "outputs": [],
   "source": [
    "import chromadb\n",
    "DB = \"products_vectorstore\"\n",
    "client = chromadb.PersistentClient(path=DB)\n",
    "collection = client.get_or_create_collection('products')\n",
    "from agents.planning_agent import PlanningAgent"
   ]
  },
  {
   "cell_type": "code",
   "execution_count": 20,
   "id": "52a13157-fe63-4a09-810c-46e0859fc65c",
   "metadata": {},
   "outputs": [],
   "source": [
    "import importlib\n",
    "import agents.planning_agent\n",
    "importlib.reload(agents.planning_agent)\n",
    "from agents.planning_agent import PlanningAgent"
   ]
  },
  {
   "cell_type": "code",
   "execution_count": 21,
   "id": "d53332b2-7674-455e-9644-2d8e56bc241f",
   "metadata": {},
   "outputs": [],
   "source": [
    "planner = PlanningAgent(collection)"
   ]
  },
  {
   "cell_type": "code",
   "execution_count": 22,
   "id": "213ba712-fcde-41e8-a444-b82f5f5bf3c9",
   "metadata": {},
   "outputs": [
    {
     "ename": "AttributeError",
     "evalue": "'ScannerAgent' object has no attribute 'openai'",
     "output_type": "error",
     "traceback": [
      "\u001b[31m---------------------------------------------------------------------------\u001b[39m",
      "\u001b[31mAttributeError\u001b[39m                            Traceback (most recent call last)",
      "\u001b[36mCell\u001b[39m\u001b[36m \u001b[39m\u001b[32mIn[22]\u001b[39m\u001b[32m, line 1\u001b[39m\n\u001b[32m----> \u001b[39m\u001b[32m1\u001b[39m \u001b[43mplanner\u001b[49m\u001b[43m.\u001b[49m\u001b[43mplan\u001b[49m\u001b[43m(\u001b[49m\u001b[43m)\u001b[49m\n",
      "\u001b[36mFile \u001b[39m\u001b[32m~\\LLM Engineering\\pricer_agent\\agents\\planning_agent.py:49\u001b[39m, in \u001b[36mPlanningAgent.plan\u001b[39m\u001b[34m(self, memory)\u001b[39m\n\u001b[32m     40\u001b[39m \u001b[38;5;250m\u001b[39m\u001b[33;03m\"\"\"\u001b[39;00m\n\u001b[32m     41\u001b[39m \u001b[33;03mRun the full workflow:\u001b[39;00m\n\u001b[32m     42\u001b[39m \u001b[33;03m1. Use the ScannerAgent to find deals from RSS feeds\u001b[39;00m\n\u001b[32m   (...)\u001b[39m\u001b[32m     46\u001b[39m \u001b[33;03m:return: an Opportunity if one was surfaced, otherwise None\u001b[39;00m\n\u001b[32m     47\u001b[39m \u001b[33;03m\"\"\"\u001b[39;00m\n\u001b[32m     48\u001b[39m \u001b[38;5;28mself\u001b[39m.log(\u001b[33m\"\u001b[39m\u001b[33mPlanning Agent is kicking off a run\u001b[39m\u001b[33m\"\u001b[39m)\n\u001b[32m---> \u001b[39m\u001b[32m49\u001b[39m selection = \u001b[38;5;28;43mself\u001b[39;49m\u001b[43m.\u001b[49m\u001b[43mscanner\u001b[49m\u001b[43m.\u001b[49m\u001b[43mscan\u001b[49m\u001b[43m(\u001b[49m\u001b[43mmemory\u001b[49m\u001b[43m=\u001b[49m\u001b[43mmemory\u001b[49m\u001b[43m)\u001b[49m\n\u001b[32m     50\u001b[39m \u001b[38;5;28;01mif\u001b[39;00m selection:\n\u001b[32m     51\u001b[39m     opportunities = [\u001b[38;5;28mself\u001b[39m.run(deal) \u001b[38;5;28;01mfor\u001b[39;00m deal \u001b[38;5;129;01min\u001b[39;00m selection.deals[:\u001b[32m5\u001b[39m]]\n",
      "\u001b[36mFile \u001b[39m\u001b[32m~\\LLM Engineering\\pricer_agent\\agents\\scanner_agent.py:88\u001b[39m, in \u001b[36mScannerAgent.scan\u001b[39m\u001b[34m(self, memory)\u001b[39m\n\u001b[32m     86\u001b[39m user_prompt = \u001b[38;5;28mself\u001b[39m.make_user_prompt(scraped)\n\u001b[32m     87\u001b[39m \u001b[38;5;28mself\u001b[39m.log(\u001b[33m\"\u001b[39m\u001b[33mScanner Agent is calling OpenAI using Structured Output\u001b[39m\u001b[33m\"\u001b[39m)\n\u001b[32m---> \u001b[39m\u001b[32m88\u001b[39m result = \u001b[38;5;28;43mself\u001b[39;49m\u001b[43m.\u001b[49m\u001b[43mopenai\u001b[49m.beta.chat.completions.parse(\n\u001b[32m     89\u001b[39m     model=\u001b[38;5;28mself\u001b[39m.MODEL,\n\u001b[32m     90\u001b[39m     messages=[\n\u001b[32m     91\u001b[39m         {\u001b[33m\"\u001b[39m\u001b[33mrole\u001b[39m\u001b[33m\"\u001b[39m: \u001b[33m\"\u001b[39m\u001b[33msystem\u001b[39m\u001b[33m\"\u001b[39m, \u001b[33m\"\u001b[39m\u001b[33mcontent\u001b[39m\u001b[33m\"\u001b[39m: \u001b[38;5;28mself\u001b[39m.SYSTEM_PROMPT},\n\u001b[32m     92\u001b[39m         {\u001b[33m\"\u001b[39m\u001b[33mrole\u001b[39m\u001b[33m\"\u001b[39m: \u001b[33m\"\u001b[39m\u001b[33muser\u001b[39m\u001b[33m\"\u001b[39m, \u001b[33m\"\u001b[39m\u001b[33mcontent\u001b[39m\u001b[33m\"\u001b[39m: user_prompt}\n\u001b[32m     93\u001b[39m   ],\n\u001b[32m     94\u001b[39m     response_format=DealSelection\n\u001b[32m     95\u001b[39m )\n\u001b[32m     96\u001b[39m result = result.choices[\u001b[32m0\u001b[39m].message.parsed\n\u001b[32m     97\u001b[39m result.deals = [deal \u001b[38;5;28;01mfor\u001b[39;00m deal \u001b[38;5;129;01min\u001b[39;00m result.deals \u001b[38;5;28;01mif\u001b[39;00m deal.price>\u001b[32m0\u001b[39m]\n",
      "\u001b[31mAttributeError\u001b[39m: 'ScannerAgent' object has no attribute 'openai'"
     ]
    }
   ],
   "source": [
    "planner.plan()"
   ]
  },
  {
   "cell_type": "code",
   "execution_count": null,
   "id": "238ee72e-6879-4961-a728-42edda8ba1cd",
   "metadata": {},
   "outputs": [],
   "source": []
  }
 ],
 "metadata": {
  "kernelspec": {
   "display_name": "Python 3 (ipykernel)",
   "language": "python",
   "name": "python3"
  },
  "language_info": {
   "codemirror_mode": {
    "name": "ipython",
    "version": 3
   },
   "file_extension": ".py",
   "mimetype": "text/x-python",
   "name": "python",
   "nbconvert_exporter": "python",
   "pygments_lexer": "ipython3",
   "version": "3.11.12"
  }
 },
 "nbformat": 4,
 "nbformat_minor": 5
}
