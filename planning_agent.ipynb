{
 "cells": [
  {
   "cell_type": "code",
   "execution_count": 12,
   "id": "2a987d48-ba41-4a67-9d49-fd8bae858ed8",
   "metadata": {},
   "outputs": [],
   "source": [
    "import chromadb\n",
    "DB = \"products_vectorstore\"\n",
    "client = chromadb.PersistentClient(path=DB)\n",
    "collection = client.get_or_create_collection('products')\n",
    "from agents.planning_agent import PlanningAgent"
   ]
  },
  {
   "cell_type": "code",
   "execution_count": 13,
   "id": "fa3f5d9e-0390-40bf-9974-e8ba6334f068",
   "metadata": {},
   "outputs": [
    {
     "data": {
      "text/plain": [
       "True"
      ]
     },
     "execution_count": 13,
     "metadata": {},
     "output_type": "execute_result"
    }
   ],
   "source": [
    "from dotenv import load_dotenv\n",
    "load_dotenv(override=True)"
   ]
  },
  {
   "cell_type": "code",
   "execution_count": 14,
   "id": "b21ad779-a8d0-444a-96c3-8dd9fc416c45",
   "metadata": {},
   "outputs": [],
   "source": [
    "planner = PlanningAgent(collection)"
   ]
  },
  {
   "cell_type": "code",
   "execution_count": 15,
   "id": "fcec6f6d-5fec-4d5d-9c12-d13600b3eb1c",
   "metadata": {},
   "outputs": [
    {
     "name": "stdout",
     "output_type": "stream",
     "text": [
      "RAW Gemini reply:\n",
      " '```json\\n{\\n    \"deals\": [\\n        {\\n            \"product_description\": \"This refurbished Apple Vision Pro Headset, complete with a Dual Loop Band-S, offers a remarkable spatial computing experience. It is designed for seamless integration with over 1 million iOS and iPadOS applications, alongside supporting over 250 Apple Arcade games. The headset features advanced micro-OLED displays for stunning visuals and is powered by a combination of Apple\\'s M2 and R1 chips, ensuring powerful performance and real-time processing of sensor inputs. For enhanced security and user authentication, it includes Optic ID, Apple\\'s secure iris-based authentication system. A 1-year Allstate warranty provides added peace of mind for this sophisticated device.\",\\n            \"price\": 2160.00,\\n            \"url\": \"https://www.dealnews.com/products/Apple/Apple-Vision-Pro-Headset/468092.html?iref=rss-c39\"\\n        },\\n        {\\n            \"product_description\": \"This Dell 15 laptop is a powerful computing solution, featuring a 13th Generation Intel Core i7-1355U processor, which boasts 10 cores and can reach speeds up to 5.00 GHz for efficient multitasking and demanding applications. It comes equipped with a vibrant 15.6-inch Full HD display, offering a smooth 120Hz refresh rate and anti-glare properties for comfortable viewing. The WVA (Wide Viewing Angle) IPS panel provides excellent color reproduction and wide viewing angles, while its 250 nits brightness ensures clear visibility. For memory and storage, it includes a generous 16GB of RAM and a spacious 1TB M.2 PCIe SSD, providing fast boot times and ample space for files. The laptop operates on Windows 11 Home, offering a modern and user-friendly interface.\",\\n            \"price\": 450.00,\\n            \"url\": \"https://www.dealnews.com/products/Dell/Dell-15-13-th-Gen-i7-15-6-Laptop-w-16-GB-RAM-and-1-TB-SSD/491652.html?iref=rss-c39\"\\n        },\\n        {\\n            \"product_description\": \"The ASUS Vivobook is a robust laptop designed for productivity and entertainment, featuring a 13th Generation Intel Core i7-1355U processor, a 3.7GHz Raptor Lake 10-Core CPU built to handle various computing tasks efficiently. It sports a large 16-inch display with a 1920x1200 resolution, providing crisp visuals and ample screen real estate for work or media consumption. This model is configured with 16GB of RAM, enabling smooth multitasking, and a fast 1TB SSD, ensuring quick data access and sufficient storage for applications and documents. The laptop comes pre-installed with Windows 11 Home, offering a contemporary operating system experience.\",\\n            \"price\": 530.00,\\n            \"url\": \"https://www.dealnews.com/products/ASUS/ASUS-Vivobook-13-th-Gen-i7-16-Laptop/479623.html?iref=rss-c39\"\\n        },\\n        {\\n            \"product_description\": \"The Jackery E5000 Plus Whole-Home Backup Kit is a comprehensive solution for ensuring power continuity throughout your residence. This robust system comprises two high-capacity Jackery Explorer 5000 Plus Portable Power Stations, which serve as the core power units for various appliances and devices. Complementing these are two Jackery Battery Pack 5000 Plus Units, designed to expand the overall energy storage capacity for extended backup times. The kit is seamlessly integrated with a Jackery Smart Transfer Switch, which facilitates automatic power transfer during outages, connecting the backup system directly to your home\\'s electrical panel. This setup ensures critical circuits remain powered, providing peace of mind during emergencies.\",\\n            \"price\": 9499.00,\\n            \"url\": \"https://www.dealnews.com/Jackery-E5000-Plus-Whole-Home-Backup-Kit-Free-Gift-for-9-499-free-shipping/21751605.html?iref=rss-f1912\"\\n        },\\n        {\\n            \"product_description\": \"The Samsung Bespoke Jet Bot Combo is an advanced robotic cleaning system that seamlessly integrates vacuuming and mopping functionalities. It utilizes LiDAR navigation combined with 3D mapping technology to precisely map your home, allowing for efficient and thorough cleaning routes. The innovative All-in-One Clean Station enhances convenience by automatically emptying the dustbin and performing an Auto Wash for the mopping pads, ensuring they are clean for the next use. Furthermore, it features Auto Steam functionality for hygienic pad cleaning and a specialized floor detect system that intelligently identifies floor types to optimize cleaning performance. Users can effortlessly control and monitor the robot through a dedicated mobile application, providing a smart and autonomous cleaning experience.\",\\n            \"price\": 999.00,\\n            \"url\": \"https://www.dealnews.com/products/Samsung/Samsung-Bespoke-Jet-Bot-Combo-Robot-Vacuum-Mop-w-All-in-One-Clean-Station/490288.html?iref=rss-f1912\"\\n        }\\n    ]\\n}\\n```'\n",
      "Cleaned JSON text:\n",
      " {\n",
      "    \"deals\": [\n",
      "        {\n",
      "            \"product_description\": \"This refurbished Apple Vision Pro Headset, complete with a Dual Loop Band-S, offers a remarkable spatial computing experience. It is designed for seamless integration with over 1 million iOS and iPadOS applications, alongside supporting over 250 Apple Arcade games. The headset features advanced micro-OLED displays for stunning visuals and is powered by a combination of Apple's M2 and R1 chips, ensuring powerful performance and real-time processing of sensor inputs. For enhanced security and user authentication, it includes Optic ID, Apple's secure iris-based authentication system. A 1-year Allstate warranty provides added peace of mind for this sophisticated device.\",\n",
      "            \"price\": 2160.00,\n",
      "            \"url\": \"https://www.dealnews.com/products/Apple/Apple-Vision-Pro-Headset/468092.html?iref=rss-c39\"\n",
      "        },\n",
      "        {\n",
      "            \"product_description\": \"This Dell 15 laptop is a powerful computing solution, featuring a 13th Generation Intel Core i7-1355U processor, which boasts 10 cores and can reach speeds up to 5.00 GHz for efficient multitasking and demanding applications. It comes equipped with a vibrant 15.6-inch Full HD display, offering a smooth 120Hz refresh rate and anti-glare properties for comfortable viewing. The WVA (Wide Viewing Angle) IPS panel provides excellent color reproduction and wide viewing angles, while its 250 nits brightness ensures clear visibility. For memory and storage, it includes a generous 16GB of RAM and a spacious 1TB M.2 PCIe SSD, providing fast boot times and ample space for files. The laptop operates on Windows 11 Home, offering a modern and user-friendly interface.\",\n",
      "            \"price\": 450.00,\n",
      "            \"url\": \"https://www.dealnews.com/products/Dell/Dell-15-13-th-Gen-i7-15-6-Laptop-w-16-GB-RAM-and-1-TB-SSD/491652.html?iref=rss-c39\"\n",
      "        },\n",
      "        {\n",
      "            \"product_description\": \"The ASUS Vivobook is a robust laptop designed for productivity and entertainment, featuring a 13th Generation Intel Core i7-1355U processor, a 3.7GHz Raptor Lake 10-Core CPU built to handle various computing tasks efficiently. It sports a large 16-inch display with a 1920x1200 resolution, providing crisp visuals and ample screen real estate for work or media consumption. This model is configured with 16GB of RAM, enabling smooth multitasking, and a fast 1TB SSD, ensuring quick data access and sufficient storage for applications and documents. The laptop comes pre-installed with Windows 11 Home, offering a contemporary operating system experience.\",\n",
      "            \"price\": 530.00,\n",
      "            \"url\": \"https://www.dealnews.com/products/ASUS/ASUS-Vivobook-13-th-Gen-i7-16-Laptop/479623.html?iref=rss-c39\"\n",
      "        },\n",
      "        {\n",
      "            \"product_description\": \"The Jackery E5000 Plus Whole-Home Backup Kit is a comprehensive solution for ensuring power continuity throughout your residence. This robust system comprises two high-capacity Jackery Explorer 5000 Plus Portable Power Stations, which serve as the core power units for various appliances and devices. Complementing these are two Jackery Battery Pack 5000 Plus Units, designed to expand the overall energy storage capacity for extended backup times. The kit is seamlessly integrated with a Jackery Smart Transfer Switch, which facilitates automatic power transfer during outages, connecting the backup system directly to your home's electrical panel. This setup ensures critical circuits remain powered, providing peace of mind during emergencies.\",\n",
      "            \"price\": 9499.00,\n",
      "            \"url\": \"https://www.dealnews.com/Jackery-E5000-Plus-Whole-Home-Backup-Kit-Free-Gift-for-9-499-free-shipping/21751605.html?iref=rss-f1912\"\n",
      "        },\n",
      "        {\n",
      "            \"product_description\": \"The Samsung Bespoke Jet Bot Combo is an advanced robotic cleaning system that seamlessly integrates vacuuming and mopping functionalities. It utilizes LiDAR navigation combined with 3D mapping technology to precisely map your home, allowing for efficient and thorough cleaning routes. The innovative All-in-One Clean Station enhances convenience by automatically emptying the dustbin and performing an Auto Wash for the mopping pads, ensuring they are clean for the next use. Furthermore, it features Auto Steam functionality for hygienic pad cleaning and a specialized floor detect system that intelligently identifies floor types to optimize cleaning performance. Users can effortlessly control and monitor the robot through a dedicated mobile application, providing a smart and autonomous cleaning experience.\",\n",
      "            \"price\": 999.00,\n",
      "            \"url\": \"https://www.dealnews.com/products/Samsung/Samsung-Bespoke-Jet-Bot-Combo-Robot-Vacuum-Mop-w-All-in-One-Clean-Station/490288.html?iref=rss-f1912\"\n",
      "        }\n",
      "    ]\n",
      "}\n",
      "Parsed JSON type: <class 'dict'>\n",
      "Parsed keys: dict_keys(['deals'])\n",
      "[DEBUG] Status code: 202\n",
      "[DEBUG] Body: b''\n"
     ]
    },
    {
     "data": {
      "text/plain": [
       "Opportunity(deal=Deal(product_description='This Dell 15 laptop is a powerful computing solution, featuring a 13th Generation Intel Core i7-1355U processor, which boasts 10 cores and can reach speeds up to 5.00 GHz for efficient multitasking and demanding applications. It comes equipped with a vibrant 15.6-inch Full HD display, offering a smooth 120Hz refresh rate and anti-glare properties for comfortable viewing. The WVA (Wide Viewing Angle) IPS panel provides excellent color reproduction and wide viewing angles, while its 250 nits brightness ensures clear visibility. For memory and storage, it includes a generous 16GB of RAM and a spacious 1TB M.2 PCIe SSD, providing fast boot times and ample space for files. The laptop operates on Windows 11 Home, offering a modern and user-friendly interface.', price=450.0, url='https://www.dealnews.com/products/Dell/Dell-15-13-th-Gen-i7-15-6-Laptop-w-16-GB-RAM-and-1-TB-SSD/491652.html?iref=rss-c39'), estimate=798.8063628986235, discount=348.80636289862355)"
      ]
     },
     "execution_count": 15,
     "metadata": {},
     "output_type": "execute_result"
    }
   ],
   "source": [
    "planner.plan()"
   ]
  },
  {
   "cell_type": "code",
   "execution_count": null,
   "id": "82c1aec7-cd86-41b5-89f1-df4df3c9a14b",
   "metadata": {},
   "outputs": [],
   "source": []
  }
 ],
 "metadata": {
  "kernelspec": {
   "display_name": "Python 3 (ipykernel)",
   "language": "python",
   "name": "python3"
  },
  "language_info": {
   "codemirror_mode": {
    "name": "ipython",
    "version": 3
   },
   "file_extension": ".py",
   "mimetype": "text/x-python",
   "name": "python",
   "nbconvert_exporter": "python",
   "pygments_lexer": "ipython3",
   "version": "3.11.12"
  }
 },
 "nbformat": 4,
 "nbformat_minor": 5
}
