{
 "cells": [
  {
   "cell_type": "code",
   "execution_count": 126,
   "id": "92a6cc95-d63f-4745-83d3-c201811607ae",
   "metadata": {},
   "outputs": [],
   "source": [
    "# imports\n",
    "\n",
    "import os\n",
    "import json\n",
    "from dotenv import load_dotenv\n",
    "import google.generativeai as genai\n",
    "from sentence_transformers import SentenceTransformer\n",
    "from agents.deals import Deal, ScrapedDeal, DealSelection\n",
    "import agents.scanner_agent"
   ]
  },
  {
   "cell_type": "code",
   "execution_count": 127,
   "id": "d97e4ee8-a979-4b0b-ad8a-3d5254737221",
   "metadata": {},
   "outputs": [],
   "source": [
    "import importlib\n",
    "import agents.deals\n",
    "importlib.reload(agents.deals)\n",
    "from agents.deals import Deal,ScrapedDeal, DealSelection"
   ]
  },
  {
   "cell_type": "code",
   "execution_count": 128,
   "id": "562e7d2c-189f-467a-bfdf-233f3ba0eccd",
   "metadata": {},
   "outputs": [
    {
     "data": {
      "text/plain": [
       "<module 'agents.scanner_agent' from 'C:\\\\Users\\\\rayen\\\\LLM Engineering\\\\pricer_agent\\\\agents\\\\scanner_agent.py'>"
      ]
     },
     "execution_count": 128,
     "metadata": {},
     "output_type": "execute_result"
    }
   ],
   "source": [
    "import importlib\n",
    "import agents.scanner_agent\n",
    "importlib.reload(agents.scanner_agent)"
   ]
  },
  {
   "cell_type": "code",
   "execution_count": 129,
   "id": "b63337b1-62a7-4391-8979-36d1bfba4d14",
   "metadata": {},
   "outputs": [],
   "source": [
    "# Initialize and constants\n",
    "\n",
    "load_dotenv(override=True)\n",
    "os.environ['OPENAI_API_KEY'] = os.getenv('OPENAI_API_KEY', 'your-key-if-not-using-env')\n",
    "MODEL = 'gemini-2.5-flash'\n",
    "genai.configure(api_key=os.getenv(\"GEMINI_API_KEY\"))"
   ]
  },
  {
   "cell_type": "code",
   "execution_count": 130,
   "id": "75e7575f-9db6-411d-9e2b-31badb835431",
   "metadata": {},
   "outputs": [
    {
     "name": "stderr",
     "output_type": "stream",
     "text": [
      "100%|████████████████████████████████████████████████████████████████████████████████████| 5/5 [01:56<00:00, 23.36s/it]\n"
     ]
    }
   ],
   "source": [
    "deals = ScrapedDeal.fetch(show_progress=True)"
   ]
  },
  {
   "cell_type": "code",
   "execution_count": 131,
   "id": "ab46cf58-9099-445a-96cd-f227930b68bf",
   "metadata": {},
   "outputs": [
    {
     "data": {
      "text/plain": [
       "50"
      ]
     },
     "execution_count": 131,
     "metadata": {},
     "output_type": "execute_result"
    }
   ],
   "source": [
    "len(deals)"
   ]
  },
  {
   "cell_type": "code",
   "execution_count": 132,
   "id": "12f05eb7-1ead-4326-92e7-f9673780a885",
   "metadata": {},
   "outputs": [
    {
     "data": {
      "text/plain": [
       "'Title: Refurb Tech Deals at eBay: Up to 81% off + free shipping\\nDetails: Get low prices on refurbished laptops, monitors, iPads, consoles, routers, and more at eBay. Plus, most of these products include an Allstate warranty. Shop Now at eBay\\nFeatures: \\nURL: https://www.dealnews.com/Refurb-Tech-Deals-at-eBay-Up-to-81-off-free-shipping/21752338.html?iref=rss-c142'"
      ]
     },
     "execution_count": 132,
     "metadata": {},
     "output_type": "execute_result"
    }
   ],
   "source": [
    "deals[1].describe()"
   ]
  },
  {
   "cell_type": "code",
   "execution_count": 133,
   "id": "bbf2d58f-50d2-447b-950c-54a4d0e6c29e",
   "metadata": {},
   "outputs": [],
   "source": [
    "system_prompt = \"\"\"You identify and summarize the 5 most detailed deals from a list, by selecting deals that have the most detailed, high quality description and the most clear price.\n",
    "Respond strictly in JSON with no explanation, using this format. You should provide the price as a number derived from the description. If the price of a deal isn't clear, do not include that deal in your response.\n",
    "Most important is that you respond with the 5 deals that have the most detailed product description with price. It's not important to mention the terms of the deal; most important is a thorough description of the product.\n",
    "Be careful with products that are described as \"$XXX off\" or \"reduced by $XXX\" - this isn't the actual price of the product. Only respond with products when you are highly confident about the price. \n",
    "\n",
    "{\"deals\": [\n",
    "    {\n",
    "        \"product_description\": \"Your clearly expressed summary of the product in 4-5 sentences. Details of the item are much more important than why it's a good deal. Avoid mentioning discounts and coupons; focus on the item itself. There should be a paragpraph of text for each item you choose.\",\n",
    "        \"price\": 99.99,\n",
    "        \"url\": \"the url as provided\"\n",
    "    },\n",
    "    ...\n",
    "]}\"\"\""
   ]
  },
  {
   "cell_type": "code",
   "execution_count": 134,
   "id": "d3066230-c830-45c6-94e8-574afd428359",
   "metadata": {},
   "outputs": [],
   "source": [
    "user_prompt = \"\"\"Respond with the most promising 5 deals from this list, selecting those which have the most detailed, high quality product description and a clear price.\n",
    "Respond strictly in JSON, and only JSON. You should rephrase the description to be a summary of the product itself, not the terms of the deal.\n",
    "Remember to respond with a paragraph of text in the product_description field for each of the 5 items that you select.\n",
    "Be careful with products that are described as \"$XXX off\" or \"reduced by $XXX\" - this isn't the actual price of the product. Only respond with products when you are highly confident about the price. \n",
    "\n",
    "Deals:\n",
    "\n",
    "\"\"\"\n",
    "user_prompt += '\\n\\n'.join([deal.describe() for deal in deals])"
   ]
  },
  {
   "cell_type": "code",
   "execution_count": 135,
   "id": "69208c0d-181e-440c-acf8-5bc1b9bc851a",
   "metadata": {},
   "outputs": [
    {
     "name": "stdout",
     "output_type": "stream",
     "text": [
      "Respond with the most promising 5 deals from this list, selecting those which have the most detailed, high quality product description and a clear price.\n",
      "Respond strictly in JSON, and only JSON. You should rephrase the description to be a summary of the product itself, not the terms of the deal.\n",
      "Remember to respond with a paragraph of text in the product_description field for each of the 5 items that you select.\n",
      "Be careful with products that are described as \"$XXX off\" or \"reduced by $XXX\" - this isn't the actual price of the product. Only respond with products when you are highly confident about the price. \n",
      "\n",
      "Deals:\n",
      "\n",
      "Title: Best Buy Black Friday in July Sale: Up to 60% off + free shipping\n",
      "Details: The Black Friday in July Sale is live at Best Buy with big savings on TVs, laptops, major appliances, headphones, and much more. My Best Buy members get free shipping. (It's free to join. Shipping is free for everyone over $35.) Shop Now at Best Buy\n",
      "Features: \n",
      "URL: https://www.dealnews.com/Best-Buy-Black-Friday-in-July-Sale-Up-to-60-off-free-shipping/21749484.html?iref=rss-c142\n",
      "\n",
      "Title: Refurb Tech Deals at eBay: Up to 81% off + free shipping\n",
      "Details: Get low prices on refurbished laptops, monitors, iPads, consoles, routers, and more at eBay. Plus, most of these products include an Allstate warranty. Shop Now at eBay\n",
      "Features: \n",
      "URL: https://www.dealnews.com/Refurb-Tech-Deals-at-eBay-Up-to-81-off-free-shipping/21752338.html?iref=rss-c142\n",
      "\n",
      "Title: Refurb Cell Phone and Smart Watch Deals at eBay: Up to 87% off + free shipping\n",
      "Details: eBay has some of the best prices you'll find on refurbished iPhones, Galaxy phones, Apple Watches, and other popular smart phones and devices. Plus, refurbished items at eBay usually include an Allstate warranty. Shop Now at eBay\n",
      "Features: \n",
      "URL: https://www.dealnews.com/Refurb-Cell-Phone-and-Smart-Watch-Deals-at-eBay-Up-to-87-off-free-shipping/21752335.html?iref=rss-c142\n",
      "\n",
      "Title: Refurb Unlocked Apple iPhone 15 128GB Smartphone for $479 + free ship\n"
     ]
    }
   ],
   "source": [
    "print(user_prompt[:2000])"
   ]
  },
  {
   "cell_type": "code",
   "execution_count": 136,
   "id": "c954484e-15ca-4e5f-b585-7ffe820910dd",
   "metadata": {},
   "outputs": [],
   "source": [
    "def get_recommendations():\n",
    "    try:\n",
    "        model = genai.GenerativeModel(MODEL)\n",
    "        response = model.generate_content(user_prompt)\n",
    "        result = response.text\n",
    "    except Exception as e :\n",
    "        self.log(f\"Gemini API Error: {e}\")\n",
    "        \n",
    "    return result"
   ]
  },
  {
   "cell_type": "code",
   "execution_count": 137,
   "id": "538e9d00-06b5-40ba-9955-9660f4d4c8e8",
   "metadata": {},
   "outputs": [],
   "source": [
    "def parse_price(price_str: str) -> float:\n",
    "    \"\"\"\n",
    "    Parse price string like \"$210\" to float\n",
    "    \"\"\"\n",
    "    if isinstance(price_str, str):\n",
    "        # Remove $ and any commas, convert to float\n",
    "        return float(price_str.replace('$', '').replace(',', ''))\n",
    "    return float(price_str)\n",
    "\n",
    "def extract_json(text: str) -> str:\n",
    "    \"\"\"\n",
    "    Extract JSON from text that might contain markdown code blocks\n",
    "    \"\"\"\n",
    "    # Remove markdown code blocks\n",
    "    text = re.sub(r'```json\\n', '', text)\n",
    "    text = re.sub(r'```\\n?', '', text)\n",
    "    text = text.strip()\n",
    "    \n",
    "    # Try to find JSON content - check for both objects {} and arrays []\n",
    "    object_start = text.find('{')\n",
    "    array_start = text.find('[')\n",
    "    \n",
    "    # Determine which comes first (or if only one exists)\n",
    "    if object_start != -1 and (array_start == -1 or object_start < array_start):\n",
    "        # JSON object\n",
    "        start = object_start\n",
    "        end = text.rfind('}') + 1\n",
    "    elif array_start != -1:\n",
    "        # JSON array\n",
    "        start = array_start\n",
    "        end = text.rfind(']') + 1\n",
    "    else:\n",
    "        # No JSON found, return as is\n",
    "        return text\n",
    "    \n",
    "    if start != -1 and end != 0:\n",
    "        return text[start:end]\n",
    "    return text\n",
    "\n",
    "def get_recommendations():\n",
    "    try:\n",
    "        # This would be your actual Gemini API call\n",
    "        model = genai.GenerativeModel(MODEL)\n",
    "        response = model.generate_content(user_prompt)\n",
    "        reply = response.text\n",
    "        \n",
    "        \n",
    "        print(\"RAW Gemini reply:\\n\", repr(reply))  # Debug: show raw text\n",
    "        clean_text = extract_json(reply)\n",
    "        print(\"Cleaned JSON text:\\n\", clean_text)  # Debug: show stripped version\n",
    "        parsed = json.loads(clean_text)\n",
    "        print(\"Parsed JSON type:\", type(parsed))  # Debug: show type\n",
    "        \n",
    "        # Determine deal list location\n",
    "        deals_data = None\n",
    "        if isinstance(parsed, dict):\n",
    "            print(\"Parsed keys:\", parsed.keys())  # Extra debug\n",
    "            for key in [\"selected_deals\", \"deals\", \"promising_deals\"]:\n",
    "                deals_data = parsed.get(key)\n",
    "                if deals_data:\n",
    "                    break\n",
    "        elif isinstance(parsed, list):\n",
    "            deals_data = parsed\n",
    "        else:\n",
    "            raise ValueError(\"Parsed JSON is not a list or dict\")\n",
    "        \n",
    "        if not deals_data:\n",
    "            raise ValueError(\"No deals found in parsed JSON\")\n",
    "        \n",
    "        deals = [\n",
    "            Deal(\n",
    "                title=deal[\"title\"],\n",
    "                product_description=deal[\"product_description\"],\n",
    "                price=parse_price(deal[\"price\"]),\n",
    "                url=deal.get(\"url\")  # Use .get() since URL might not exist\n",
    "            )\n",
    "            for deal in deals_data\n",
    "        ]\n",
    "        \n",
    "        return DealSelection(deals=deals)\n",
    "        \n",
    "    except json.JSONDecodeError as e:\n",
    "        print(f\"❌ JSON parsing error: {e}\")\n",
    "    except Exception as e:\n",
    "        print(f\"❌ Error: {e}\")\n",
    "    return None"
   ]
  },
  {
   "cell_type": "code",
   "execution_count": 138,
   "id": "53b3aecf-9c1e-4743-9ea9-ca881171c3da",
   "metadata": {},
   "outputs": [
    {
     "ename": "KeyboardInterrupt",
     "evalue": "",
     "output_type": "error",
     "traceback": [
      "\u001b[31m---------------------------------------------------------------------------\u001b[39m",
      "\u001b[31mKeyboardInterrupt\u001b[39m                         Traceback (most recent call last)",
      "\u001b[36mCell\u001b[39m\u001b[36m \u001b[39m\u001b[32mIn[138]\u001b[39m\u001b[32m, line 1\u001b[39m\n\u001b[32m----> \u001b[39m\u001b[32m1\u001b[39m result = \u001b[43mget_recommendations\u001b[49m\u001b[43m(\u001b[49m\u001b[43m)\u001b[49m\n",
      "\u001b[36mCell\u001b[39m\u001b[36m \u001b[39m\u001b[32mIn[137]\u001b[39m\u001b[32m, line 44\u001b[39m, in \u001b[36mget_recommendations\u001b[39m\u001b[34m()\u001b[39m\n\u001b[32m     41\u001b[39m \u001b[38;5;28;01mtry\u001b[39;00m:\n\u001b[32m     42\u001b[39m     \u001b[38;5;66;03m# This would be your actual Gemini API call\u001b[39;00m\n\u001b[32m     43\u001b[39m     model = genai.GenerativeModel(MODEL)\n\u001b[32m---> \u001b[39m\u001b[32m44\u001b[39m     response = \u001b[43mmodel\u001b[49m\u001b[43m.\u001b[49m\u001b[43mgenerate_content\u001b[49m\u001b[43m(\u001b[49m\u001b[43muser_prompt\u001b[49m\u001b[43m)\u001b[49m\n\u001b[32m     45\u001b[39m     reply = response.text\n\u001b[32m     48\u001b[39m     \u001b[38;5;28mprint\u001b[39m(\u001b[33m\"\u001b[39m\u001b[33mRAW Gemini reply:\u001b[39m\u001b[38;5;130;01m\\n\u001b[39;00m\u001b[33m\"\u001b[39m, \u001b[38;5;28mrepr\u001b[39m(reply))  \u001b[38;5;66;03m# Debug: show raw text\u001b[39;00m\n",
      "\u001b[36mFile \u001b[39m\u001b[32m~\\anaconda3\\envs\\llms\\Lib\\site-packages\\google\\generativeai\\generative_models.py:331\u001b[39m, in \u001b[36mGenerativeModel.generate_content\u001b[39m\u001b[34m(self, contents, generation_config, safety_settings, stream, tools, tool_config, request_options)\u001b[39m\n\u001b[32m    329\u001b[39m         \u001b[38;5;28;01mreturn\u001b[39;00m generation_types.GenerateContentResponse.from_iterator(iterator)\n\u001b[32m    330\u001b[39m     \u001b[38;5;28;01melse\u001b[39;00m:\n\u001b[32m--> \u001b[39m\u001b[32m331\u001b[39m         response = \u001b[38;5;28;43mself\u001b[39;49m\u001b[43m.\u001b[49m\u001b[43m_client\u001b[49m\u001b[43m.\u001b[49m\u001b[43mgenerate_content\u001b[49m\u001b[43m(\u001b[49m\n\u001b[32m    332\u001b[39m \u001b[43m            \u001b[49m\u001b[43mrequest\u001b[49m\u001b[43m,\u001b[49m\n\u001b[32m    333\u001b[39m \u001b[43m            \u001b[49m\u001b[43m*\u001b[49m\u001b[43m*\u001b[49m\u001b[43mrequest_options\u001b[49m\u001b[43m,\u001b[49m\n\u001b[32m    334\u001b[39m \u001b[43m        \u001b[49m\u001b[43m)\u001b[49m\n\u001b[32m    335\u001b[39m         \u001b[38;5;28;01mreturn\u001b[39;00m generation_types.GenerateContentResponse.from_response(response)\n\u001b[32m    336\u001b[39m \u001b[38;5;28;01mexcept\u001b[39;00m google.api_core.exceptions.InvalidArgument \u001b[38;5;28;01mas\u001b[39;00m e:\n",
      "\u001b[36mFile \u001b[39m\u001b[32m~\\anaconda3\\envs\\llms\\Lib\\site-packages\\google\\ai\\generativelanguage_v1beta\\services\\generative_service\\client.py:835\u001b[39m, in \u001b[36mGenerativeServiceClient.generate_content\u001b[39m\u001b[34m(self, request, model, contents, retry, timeout, metadata)\u001b[39m\n\u001b[32m    832\u001b[39m \u001b[38;5;28mself\u001b[39m._validate_universe_domain()\n\u001b[32m    834\u001b[39m \u001b[38;5;66;03m# Send the request.\u001b[39;00m\n\u001b[32m--> \u001b[39m\u001b[32m835\u001b[39m response = \u001b[43mrpc\u001b[49m\u001b[43m(\u001b[49m\n\u001b[32m    836\u001b[39m \u001b[43m    \u001b[49m\u001b[43mrequest\u001b[49m\u001b[43m,\u001b[49m\n\u001b[32m    837\u001b[39m \u001b[43m    \u001b[49m\u001b[43mretry\u001b[49m\u001b[43m=\u001b[49m\u001b[43mretry\u001b[49m\u001b[43m,\u001b[49m\n\u001b[32m    838\u001b[39m \u001b[43m    \u001b[49m\u001b[43mtimeout\u001b[49m\u001b[43m=\u001b[49m\u001b[43mtimeout\u001b[49m\u001b[43m,\u001b[49m\n\u001b[32m    839\u001b[39m \u001b[43m    \u001b[49m\u001b[43mmetadata\u001b[49m\u001b[43m=\u001b[49m\u001b[43mmetadata\u001b[49m\u001b[43m,\u001b[49m\n\u001b[32m    840\u001b[39m \u001b[43m\u001b[49m\u001b[43m)\u001b[49m\n\u001b[32m    842\u001b[39m \u001b[38;5;66;03m# Done; return the response.\u001b[39;00m\n\u001b[32m    843\u001b[39m \u001b[38;5;28;01mreturn\u001b[39;00m response\n",
      "\u001b[36mFile \u001b[39m\u001b[32m~\\anaconda3\\envs\\llms\\Lib\\site-packages\\google\\api_core\\gapic_v1\\method.py:131\u001b[39m, in \u001b[36m_GapicCallable.__call__\u001b[39m\u001b[34m(self, timeout, retry, compression, *args, **kwargs)\u001b[39m\n\u001b[32m    128\u001b[39m \u001b[38;5;28;01mif\u001b[39;00m \u001b[38;5;28mself\u001b[39m._compression \u001b[38;5;129;01mis\u001b[39;00m \u001b[38;5;129;01mnot\u001b[39;00m \u001b[38;5;28;01mNone\u001b[39;00m:\n\u001b[32m    129\u001b[39m     kwargs[\u001b[33m\"\u001b[39m\u001b[33mcompression\u001b[39m\u001b[33m\"\u001b[39m] = compression\n\u001b[32m--> \u001b[39m\u001b[32m131\u001b[39m \u001b[38;5;28;01mreturn\u001b[39;00m \u001b[43mwrapped_func\u001b[49m\u001b[43m(\u001b[49m\u001b[43m*\u001b[49m\u001b[43margs\u001b[49m\u001b[43m,\u001b[49m\u001b[43m \u001b[49m\u001b[43m*\u001b[49m\u001b[43m*\u001b[49m\u001b[43mkwargs\u001b[49m\u001b[43m)\u001b[49m\n",
      "\u001b[36mFile \u001b[39m\u001b[32m~\\anaconda3\\envs\\llms\\Lib\\site-packages\\google\\api_core\\retry\\retry_unary.py:293\u001b[39m, in \u001b[36mRetry.__call__.<locals>.retry_wrapped_func\u001b[39m\u001b[34m(*args, **kwargs)\u001b[39m\n\u001b[32m    289\u001b[39m target = functools.partial(func, *args, **kwargs)\n\u001b[32m    290\u001b[39m sleep_generator = exponential_sleep_generator(\n\u001b[32m    291\u001b[39m     \u001b[38;5;28mself\u001b[39m._initial, \u001b[38;5;28mself\u001b[39m._maximum, multiplier=\u001b[38;5;28mself\u001b[39m._multiplier\n\u001b[32m    292\u001b[39m )\n\u001b[32m--> \u001b[39m\u001b[32m293\u001b[39m \u001b[38;5;28;01mreturn\u001b[39;00m \u001b[43mretry_target\u001b[49m\u001b[43m(\u001b[49m\n\u001b[32m    294\u001b[39m \u001b[43m    \u001b[49m\u001b[43mtarget\u001b[49m\u001b[43m,\u001b[49m\n\u001b[32m    295\u001b[39m \u001b[43m    \u001b[49m\u001b[38;5;28;43mself\u001b[39;49m\u001b[43m.\u001b[49m\u001b[43m_predicate\u001b[49m\u001b[43m,\u001b[49m\n\u001b[32m    296\u001b[39m \u001b[43m    \u001b[49m\u001b[43msleep_generator\u001b[49m\u001b[43m,\u001b[49m\n\u001b[32m    297\u001b[39m \u001b[43m    \u001b[49m\u001b[43mtimeout\u001b[49m\u001b[43m=\u001b[49m\u001b[38;5;28;43mself\u001b[39;49m\u001b[43m.\u001b[49m\u001b[43m_timeout\u001b[49m\u001b[43m,\u001b[49m\n\u001b[32m    298\u001b[39m \u001b[43m    \u001b[49m\u001b[43mon_error\u001b[49m\u001b[43m=\u001b[49m\u001b[43mon_error\u001b[49m\u001b[43m,\u001b[49m\n\u001b[32m    299\u001b[39m \u001b[43m\u001b[49m\u001b[43m)\u001b[49m\n",
      "\u001b[36mFile \u001b[39m\u001b[32m~\\anaconda3\\envs\\llms\\Lib\\site-packages\\google\\api_core\\retry\\retry_unary.py:144\u001b[39m, in \u001b[36mretry_target\u001b[39m\u001b[34m(target, predicate, sleep_generator, timeout, on_error, exception_factory, **kwargs)\u001b[39m\n\u001b[32m    142\u001b[39m \u001b[38;5;28;01mfor\u001b[39;00m sleep \u001b[38;5;129;01min\u001b[39;00m sleep_generator:\n\u001b[32m    143\u001b[39m     \u001b[38;5;28;01mtry\u001b[39;00m:\n\u001b[32m--> \u001b[39m\u001b[32m144\u001b[39m         result = \u001b[43mtarget\u001b[49m\u001b[43m(\u001b[49m\u001b[43m)\u001b[49m\n\u001b[32m    145\u001b[39m         \u001b[38;5;28;01mif\u001b[39;00m inspect.isawaitable(result):\n\u001b[32m    146\u001b[39m             warnings.warn(_ASYNC_RETRY_WARNING)\n",
      "\u001b[36mFile \u001b[39m\u001b[32m~\\anaconda3\\envs\\llms\\Lib\\site-packages\\google\\api_core\\timeout.py:130\u001b[39m, in \u001b[36mTimeToDeadlineTimeout.__call__.<locals>.func_with_timeout\u001b[39m\u001b[34m(*args, **kwargs)\u001b[39m\n\u001b[32m    126\u001b[39m         remaining_timeout = \u001b[38;5;28mself\u001b[39m._timeout\n\u001b[32m    128\u001b[39m     kwargs[\u001b[33m\"\u001b[39m\u001b[33mtimeout\u001b[39m\u001b[33m\"\u001b[39m] = remaining_timeout\n\u001b[32m--> \u001b[39m\u001b[32m130\u001b[39m \u001b[38;5;28;01mreturn\u001b[39;00m \u001b[43mfunc\u001b[49m\u001b[43m(\u001b[49m\u001b[43m*\u001b[49m\u001b[43margs\u001b[49m\u001b[43m,\u001b[49m\u001b[43m \u001b[49m\u001b[43m*\u001b[49m\u001b[43m*\u001b[49m\u001b[43mkwargs\u001b[49m\u001b[43m)\u001b[49m\n",
      "\u001b[36mFile \u001b[39m\u001b[32m~\\anaconda3\\envs\\llms\\Lib\\site-packages\\google\\api_core\\grpc_helpers.py:76\u001b[39m, in \u001b[36m_wrap_unary_errors.<locals>.error_remapped_callable\u001b[39m\u001b[34m(*args, **kwargs)\u001b[39m\n\u001b[32m     73\u001b[39m \u001b[38;5;129m@functools\u001b[39m.wraps(callable_)\n\u001b[32m     74\u001b[39m \u001b[38;5;28;01mdef\u001b[39;00m\u001b[38;5;250m \u001b[39m\u001b[34merror_remapped_callable\u001b[39m(*args, **kwargs):\n\u001b[32m     75\u001b[39m     \u001b[38;5;28;01mtry\u001b[39;00m:\n\u001b[32m---> \u001b[39m\u001b[32m76\u001b[39m         \u001b[38;5;28;01mreturn\u001b[39;00m \u001b[43mcallable_\u001b[49m\u001b[43m(\u001b[49m\u001b[43m*\u001b[49m\u001b[43margs\u001b[49m\u001b[43m,\u001b[49m\u001b[43m \u001b[49m\u001b[43m*\u001b[49m\u001b[43m*\u001b[49m\u001b[43mkwargs\u001b[49m\u001b[43m)\u001b[49m\n\u001b[32m     77\u001b[39m     \u001b[38;5;28;01mexcept\u001b[39;00m grpc.RpcError \u001b[38;5;28;01mas\u001b[39;00m exc:\n\u001b[32m     78\u001b[39m         \u001b[38;5;28;01mraise\u001b[39;00m exceptions.from_grpc_error(exc) \u001b[38;5;28;01mfrom\u001b[39;00m\u001b[38;5;250m \u001b[39m\u001b[34;01mexc\u001b[39;00m\n",
      "\u001b[36mFile \u001b[39m\u001b[32m~\\anaconda3\\envs\\llms\\Lib\\site-packages\\grpc\\_interceptor.py:277\u001b[39m, in \u001b[36m_UnaryUnaryMultiCallable.__call__\u001b[39m\u001b[34m(self, request, timeout, metadata, credentials, wait_for_ready, compression)\u001b[39m\n\u001b[32m    268\u001b[39m \u001b[38;5;28;01mdef\u001b[39;00m\u001b[38;5;250m \u001b[39m\u001b[34m__call__\u001b[39m(\n\u001b[32m    269\u001b[39m     \u001b[38;5;28mself\u001b[39m,\n\u001b[32m    270\u001b[39m     request: Any,\n\u001b[32m   (...)\u001b[39m\u001b[32m    275\u001b[39m     compression: Optional[grpc.Compression] = \u001b[38;5;28;01mNone\u001b[39;00m,\n\u001b[32m    276\u001b[39m ) -> Any:\n\u001b[32m--> \u001b[39m\u001b[32m277\u001b[39m     response, ignored_call = \u001b[38;5;28;43mself\u001b[39;49m\u001b[43m.\u001b[49m\u001b[43m_with_call\u001b[49m\u001b[43m(\u001b[49m\n\u001b[32m    278\u001b[39m \u001b[43m        \u001b[49m\u001b[43mrequest\u001b[49m\u001b[43m,\u001b[49m\n\u001b[32m    279\u001b[39m \u001b[43m        \u001b[49m\u001b[43mtimeout\u001b[49m\u001b[43m=\u001b[49m\u001b[43mtimeout\u001b[49m\u001b[43m,\u001b[49m\n\u001b[32m    280\u001b[39m \u001b[43m        \u001b[49m\u001b[43mmetadata\u001b[49m\u001b[43m=\u001b[49m\u001b[43mmetadata\u001b[49m\u001b[43m,\u001b[49m\n\u001b[32m    281\u001b[39m \u001b[43m        \u001b[49m\u001b[43mcredentials\u001b[49m\u001b[43m=\u001b[49m\u001b[43mcredentials\u001b[49m\u001b[43m,\u001b[49m\n\u001b[32m    282\u001b[39m \u001b[43m        \u001b[49m\u001b[43mwait_for_ready\u001b[49m\u001b[43m=\u001b[49m\u001b[43mwait_for_ready\u001b[49m\u001b[43m,\u001b[49m\n\u001b[32m    283\u001b[39m \u001b[43m        \u001b[49m\u001b[43mcompression\u001b[49m\u001b[43m=\u001b[49m\u001b[43mcompression\u001b[49m\u001b[43m,\u001b[49m\n\u001b[32m    284\u001b[39m \u001b[43m    \u001b[49m\u001b[43m)\u001b[49m\n\u001b[32m    285\u001b[39m     \u001b[38;5;28;01mreturn\u001b[39;00m response\n",
      "\u001b[36mFile \u001b[39m\u001b[32m~\\anaconda3\\envs\\llms\\Lib\\site-packages\\grpc\\_interceptor.py:329\u001b[39m, in \u001b[36m_UnaryUnaryMultiCallable._with_call\u001b[39m\u001b[34m(self, request, timeout, metadata, credentials, wait_for_ready, compression)\u001b[39m\n\u001b[32m    326\u001b[39m     \u001b[38;5;28;01mexcept\u001b[39;00m \u001b[38;5;167;01mException\u001b[39;00m \u001b[38;5;28;01mas\u001b[39;00m exception:  \u001b[38;5;66;03m# pylint:disable=broad-except\u001b[39;00m\n\u001b[32m    327\u001b[39m         \u001b[38;5;28;01mreturn\u001b[39;00m _FailureOutcome(exception, sys.exc_info()[\u001b[32m2\u001b[39m])\n\u001b[32m--> \u001b[39m\u001b[32m329\u001b[39m call = \u001b[38;5;28;43mself\u001b[39;49m\u001b[43m.\u001b[49m\u001b[43m_interceptor\u001b[49m\u001b[43m.\u001b[49m\u001b[43mintercept_unary_unary\u001b[49m\u001b[43m(\u001b[49m\n\u001b[32m    330\u001b[39m \u001b[43m    \u001b[49m\u001b[43mcontinuation\u001b[49m\u001b[43m,\u001b[49m\u001b[43m \u001b[49m\u001b[43mclient_call_details\u001b[49m\u001b[43m,\u001b[49m\u001b[43m \u001b[49m\u001b[43mrequest\u001b[49m\n\u001b[32m    331\u001b[39m \u001b[43m\u001b[49m\u001b[43m)\u001b[49m\n\u001b[32m    332\u001b[39m \u001b[38;5;28;01mreturn\u001b[39;00m call.result(), call\n",
      "\u001b[36mFile \u001b[39m\u001b[32m~\\anaconda3\\envs\\llms\\Lib\\site-packages\\google\\ai\\generativelanguage_v1beta\\services\\generative_service\\transports\\grpc.py:79\u001b[39m, in \u001b[36m_LoggingClientInterceptor.intercept_unary_unary\u001b[39m\u001b[34m(self, continuation, client_call_details, request)\u001b[39m\n\u001b[32m     64\u001b[39m     grpc_request = {\n\u001b[32m     65\u001b[39m         \u001b[33m\"\u001b[39m\u001b[33mpayload\u001b[39m\u001b[33m\"\u001b[39m: request_payload,\n\u001b[32m     66\u001b[39m         \u001b[33m\"\u001b[39m\u001b[33mrequestMethod\u001b[39m\u001b[33m\"\u001b[39m: \u001b[33m\"\u001b[39m\u001b[33mgrpc\u001b[39m\u001b[33m\"\u001b[39m,\n\u001b[32m     67\u001b[39m         \u001b[33m\"\u001b[39m\u001b[33mmetadata\u001b[39m\u001b[33m\"\u001b[39m: \u001b[38;5;28mdict\u001b[39m(request_metadata),\n\u001b[32m     68\u001b[39m     }\n\u001b[32m     69\u001b[39m     _LOGGER.debug(\n\u001b[32m     70\u001b[39m         \u001b[33mf\u001b[39m\u001b[33m\"\u001b[39m\u001b[33mSending request for \u001b[39m\u001b[38;5;132;01m{\u001b[39;00mclient_call_details.method\u001b[38;5;132;01m}\u001b[39;00m\u001b[33m\"\u001b[39m,\n\u001b[32m     71\u001b[39m         extra={\n\u001b[32m   (...)\u001b[39m\u001b[32m     76\u001b[39m         },\n\u001b[32m     77\u001b[39m     )\n\u001b[32m---> \u001b[39m\u001b[32m79\u001b[39m response = \u001b[43mcontinuation\u001b[49m\u001b[43m(\u001b[49m\u001b[43mclient_call_details\u001b[49m\u001b[43m,\u001b[49m\u001b[43m \u001b[49m\u001b[43mrequest\u001b[49m\u001b[43m)\u001b[49m\n\u001b[32m     80\u001b[39m \u001b[38;5;28;01mif\u001b[39;00m logging_enabled:  \u001b[38;5;66;03m# pragma: NO COVER\u001b[39;00m\n\u001b[32m     81\u001b[39m     response_metadata = response.trailing_metadata()\n",
      "\u001b[36mFile \u001b[39m\u001b[32m~\\anaconda3\\envs\\llms\\Lib\\site-packages\\grpc\\_interceptor.py:315\u001b[39m, in \u001b[36m_UnaryUnaryMultiCallable._with_call.<locals>.continuation\u001b[39m\u001b[34m(new_details, request)\u001b[39m\n\u001b[32m    306\u001b[39m (\n\u001b[32m    307\u001b[39m     new_method,\n\u001b[32m    308\u001b[39m     new_timeout,\n\u001b[32m   (...)\u001b[39m\u001b[32m    312\u001b[39m     new_compression,\n\u001b[32m    313\u001b[39m ) = _unwrap_client_call_details(new_details, client_call_details)\n\u001b[32m    314\u001b[39m \u001b[38;5;28;01mtry\u001b[39;00m:\n\u001b[32m--> \u001b[39m\u001b[32m315\u001b[39m     response, call = \u001b[38;5;28;43mself\u001b[39;49m\u001b[43m.\u001b[49m\u001b[43m_thunk\u001b[49m\u001b[43m(\u001b[49m\u001b[43mnew_method\u001b[49m\u001b[43m)\u001b[49m\u001b[43m.\u001b[49m\u001b[43mwith_call\u001b[49m\u001b[43m(\u001b[49m\n\u001b[32m    316\u001b[39m \u001b[43m        \u001b[49m\u001b[43mrequest\u001b[49m\u001b[43m,\u001b[49m\n\u001b[32m    317\u001b[39m \u001b[43m        \u001b[49m\u001b[43mtimeout\u001b[49m\u001b[43m=\u001b[49m\u001b[43mnew_timeout\u001b[49m\u001b[43m,\u001b[49m\n\u001b[32m    318\u001b[39m \u001b[43m        \u001b[49m\u001b[43mmetadata\u001b[49m\u001b[43m=\u001b[49m\u001b[43mnew_metadata\u001b[49m\u001b[43m,\u001b[49m\n\u001b[32m    319\u001b[39m \u001b[43m        \u001b[49m\u001b[43mcredentials\u001b[49m\u001b[43m=\u001b[49m\u001b[43mnew_credentials\u001b[49m\u001b[43m,\u001b[49m\n\u001b[32m    320\u001b[39m \u001b[43m        \u001b[49m\u001b[43mwait_for_ready\u001b[49m\u001b[43m=\u001b[49m\u001b[43mnew_wait_for_ready\u001b[49m\u001b[43m,\u001b[49m\n\u001b[32m    321\u001b[39m \u001b[43m        \u001b[49m\u001b[43mcompression\u001b[49m\u001b[43m=\u001b[49m\u001b[43mnew_compression\u001b[49m\u001b[43m,\u001b[49m\n\u001b[32m    322\u001b[39m \u001b[43m    \u001b[49m\u001b[43m)\u001b[49m\n\u001b[32m    323\u001b[39m     \u001b[38;5;28;01mreturn\u001b[39;00m _UnaryOutcome(response, call)\n\u001b[32m    324\u001b[39m \u001b[38;5;28;01mexcept\u001b[39;00m grpc.RpcError \u001b[38;5;28;01mas\u001b[39;00m rpc_error:\n",
      "\u001b[36mFile \u001b[39m\u001b[32m~\\anaconda3\\envs\\llms\\Lib\\site-packages\\grpc\\_channel.py:1195\u001b[39m, in \u001b[36m_UnaryUnaryMultiCallable.with_call\u001b[39m\u001b[34m(self, request, timeout, metadata, credentials, wait_for_ready, compression)\u001b[39m\n\u001b[32m   1183\u001b[39m \u001b[38;5;28;01mdef\u001b[39;00m\u001b[38;5;250m \u001b[39m\u001b[34mwith_call\u001b[39m(\n\u001b[32m   1184\u001b[39m     \u001b[38;5;28mself\u001b[39m,\n\u001b[32m   1185\u001b[39m     request: Any,\n\u001b[32m   (...)\u001b[39m\u001b[32m   1190\u001b[39m     compression: Optional[grpc.Compression] = \u001b[38;5;28;01mNone\u001b[39;00m,\n\u001b[32m   1191\u001b[39m ) -> Tuple[Any, grpc.Call]:\n\u001b[32m   1192\u001b[39m     (\n\u001b[32m   1193\u001b[39m         state,\n\u001b[32m   1194\u001b[39m         call,\n\u001b[32m-> \u001b[39m\u001b[32m1195\u001b[39m     ) = \u001b[38;5;28;43mself\u001b[39;49m\u001b[43m.\u001b[49m\u001b[43m_blocking\u001b[49m\u001b[43m(\u001b[49m\n\u001b[32m   1196\u001b[39m \u001b[43m        \u001b[49m\u001b[43mrequest\u001b[49m\u001b[43m,\u001b[49m\u001b[43m \u001b[49m\u001b[43mtimeout\u001b[49m\u001b[43m,\u001b[49m\u001b[43m \u001b[49m\u001b[43mmetadata\u001b[49m\u001b[43m,\u001b[49m\u001b[43m \u001b[49m\u001b[43mcredentials\u001b[49m\u001b[43m,\u001b[49m\u001b[43m \u001b[49m\u001b[43mwait_for_ready\u001b[49m\u001b[43m,\u001b[49m\u001b[43m \u001b[49m\u001b[43mcompression\u001b[49m\n\u001b[32m   1197\u001b[39m \u001b[43m    \u001b[49m\u001b[43m)\u001b[49m\n\u001b[32m   1198\u001b[39m     \u001b[38;5;28;01mreturn\u001b[39;00m _end_unary_response_blocking(state, call, \u001b[38;5;28;01mTrue\u001b[39;00m, \u001b[38;5;28;01mNone\u001b[39;00m)\n",
      "\u001b[36mFile \u001b[39m\u001b[32m~\\anaconda3\\envs\\llms\\Lib\\site-packages\\grpc\\_channel.py:1162\u001b[39m, in \u001b[36m_UnaryUnaryMultiCallable._blocking\u001b[39m\u001b[34m(self, request, timeout, metadata, credentials, wait_for_ready, compression)\u001b[39m\n\u001b[32m   1145\u001b[39m state.target = _common.decode(\u001b[38;5;28mself\u001b[39m._target)\n\u001b[32m   1146\u001b[39m call = \u001b[38;5;28mself\u001b[39m._channel.segregated_call(\n\u001b[32m   1147\u001b[39m     cygrpc.PropagationConstants.GRPC_PROPAGATE_DEFAULTS,\n\u001b[32m   1148\u001b[39m     \u001b[38;5;28mself\u001b[39m._method,\n\u001b[32m   (...)\u001b[39m\u001b[32m   1160\u001b[39m     \u001b[38;5;28mself\u001b[39m._registered_call_handle,\n\u001b[32m   1161\u001b[39m )\n\u001b[32m-> \u001b[39m\u001b[32m1162\u001b[39m event = \u001b[43mcall\u001b[49m\u001b[43m.\u001b[49m\u001b[43mnext_event\u001b[49m\u001b[43m(\u001b[49m\u001b[43m)\u001b[49m\n\u001b[32m   1163\u001b[39m _handle_event(event, state, \u001b[38;5;28mself\u001b[39m._response_deserializer)\n\u001b[32m   1164\u001b[39m \u001b[38;5;28;01mreturn\u001b[39;00m state, call\n",
      "\u001b[36mFile \u001b[39m\u001b[32msrc\\\\python\\\\grpcio\\\\grpc\\\\_cython\\\\_cygrpc/channel.pyx.pxi:388\u001b[39m, in \u001b[36mgrpc._cython.cygrpc.SegregatedCall.next_event\u001b[39m\u001b[34m()\u001b[39m\n",
      "\u001b[36mFile \u001b[39m\u001b[32msrc\\\\python\\\\grpcio\\\\grpc\\\\_cython\\\\_cygrpc/channel.pyx.pxi:211\u001b[39m, in \u001b[36mgrpc._cython.cygrpc._next_call_event\u001b[39m\u001b[34m()\u001b[39m\n",
      "\u001b[36mFile \u001b[39m\u001b[32msrc\\\\python\\\\grpcio\\\\grpc\\\\_cython\\\\_cygrpc/channel.pyx.pxi:205\u001b[39m, in \u001b[36mgrpc._cython.cygrpc._next_call_event\u001b[39m\u001b[34m()\u001b[39m\n",
      "\u001b[36mFile \u001b[39m\u001b[32msrc\\\\python\\\\grpcio\\\\grpc\\\\_cython\\\\_cygrpc/completion_queue.pyx.pxi:78\u001b[39m, in \u001b[36mgrpc._cython.cygrpc._latent_event\u001b[39m\u001b[34m()\u001b[39m\n",
      "\u001b[36mFile \u001b[39m\u001b[32msrc\\\\python\\\\grpcio\\\\grpc\\\\_cython\\\\_cygrpc/completion_queue.pyx.pxi:61\u001b[39m, in \u001b[36mgrpc._cython.cygrpc._internal_latent_event\u001b[39m\u001b[34m()\u001b[39m\n",
      "\u001b[36mFile \u001b[39m\u001b[32msrc\\\\python\\\\grpcio\\\\grpc\\\\_cython\\\\_cygrpc/completion_queue.pyx.pxi:42\u001b[39m, in \u001b[36mgrpc._cython.cygrpc._next\u001b[39m\u001b[34m()\u001b[39m\n",
      "\u001b[31mKeyboardInterrupt\u001b[39m: "
     ]
    }
   ],
   "source": [
    "result = get_recommendations()"
   ]
  },
  {
   "cell_type": "code",
   "execution_count": 97,
   "id": "6c31a29d-7c48-438c-9c71-f271d036acd2",
   "metadata": {},
   "outputs": [
    {
     "name": "stdout",
     "output_type": "stream",
     "text": [
      "deals=[Deal(product_description='This is a refurbished Samsung Galaxy S21, an unlocked 5G Android smartphone featuring 256GB of internal storage. It runs on Android 11 and is powered by a Qualcomm SM8350 Snapdragon 888 Octa-Core Processor. The device boasts a vibrant 6.2-inch 2400x1080 120Hz touchscreen, capable of 8K video recording. For photography, it includes a versatile camera system with a 64MP telephoto lens, 12MP wide and ultra-wide cameras, and a 10MP front camera, all within model SM-G991UZAEXAA.', price=210.0, url=None), Deal(product_description='The HP Victus is a high-performance 15.6-inch gaming laptop, featuring an AMD Ryzen 7 7445HS 3.1GHz 8-core CPU and NVIDIA GeForce RTX 4050 graphics with 6GB of dedicated memory, making it suitable for demanding games and creative tasks. It comes equipped with 16GB of RAM and a 512GB SSD for fast boot times and ample storage. The visual experience is delivered through a 15.6-inch 1920x1080 (1080p) IPS display, and the system runs on Windows 11 Home, identified by model 15-fb3093dx/BM4X8UA#ABA.', price=650.0, url=None), Deal(product_description='The Lenovo Ideapad 1 is a versatile 15.6-inch laptop designed for everyday productivity and entertainment, featuring a 1080p touchscreen display. It is powered by an AMD Ryzen 5 7520U 2.8GHz quad-core CPU, complemented by 8GB of RAM and a 256GB SSD for efficient performance and quick data access. The laptop operates on Windows 11 Home, offering a modern user experience, and its model number is 82VG00TYUS.', price=300.0, url=None), Deal(product_description='This Vizio 50-inch MQX-Series Smart TV delivers stunning visuals with its 4K resolution and a smooth 120Hz refresh rate, ideal for immersive viewing and gaming. It supports HDR10 and Dolby Vision, enhancing colors, contrast, and brightness for a more lifelike picture. As a smart TV, it offers easy access to streaming content, and its specific model is M50QXM-K01.', price=398.0, url=None), Deal(product_description='The iRobot Roomba j9+ is a certified refurbished self-emptying robot vacuum and mop designed for comprehensive floor cleaning. Its intelligent Clean Base system automatically empties collected debris and refills water or cleaning solution, allowing for up to 30 days of maintenance-free operation. This model features a fully retractable mop function, ensuring carpets stay dry, and employs a 4-stage cleaning system to effectively tackle dirt and grime on various surfaces. The specific model number is C975020.', price=331.0, url=None)]\n"
     ]
    }
   ],
   "source": [
    "print(result)"
   ]
  },
  {
   "cell_type": "code",
   "execution_count": 98,
   "id": "9f78fefd-98ec-4849-900e-336dc1a322d6",
   "metadata": {},
   "outputs": [
    {
     "data": {
      "text/plain": [
       "5"
      ]
     },
     "execution_count": 98,
     "metadata": {},
     "output_type": "execute_result"
    }
   ],
   "source": [
    "len(result.deals)"
   ]
  },
  {
   "cell_type": "code",
   "execution_count": 99,
   "id": "ebc087e8-2218-448b-a460-63d49e1f5bdd",
   "metadata": {},
   "outputs": [
    {
     "data": {
      "text/plain": [
       "Deal(product_description='This Vizio 50-inch MQX-Series Smart TV delivers stunning visuals with its 4K resolution and a smooth 120Hz refresh rate, ideal for immersive viewing and gaming. It supports HDR10 and Dolby Vision, enhancing colors, contrast, and brightness for a more lifelike picture. As a smart TV, it offers easy access to streaming content, and its specific model is M50QXM-K01.', price=398.0, url=None)"
      ]
     },
     "execution_count": 99,
     "metadata": {},
     "output_type": "execute_result"
    }
   ],
   "source": [
    "result.deals[3]"
   ]
  },
  {
   "cell_type": "code",
   "execution_count": 139,
   "id": "f006503b-d1ed-4a2c-a06a-13c0f37cbbb0",
   "metadata": {},
   "outputs": [],
   "source": [
    "from agents.scanner_agent import ScannerAgent"
   ]
  },
  {
   "cell_type": "code",
   "execution_count": 140,
   "id": "b289a473-a7fb-442d-8f5f-1a32f92bff9c",
   "metadata": {},
   "outputs": [
    {
     "name": "stdout",
     "output_type": "stream",
     "text": [
      "RAW Gemini reply:\n",
      " '```json\\n{\\n    \"deals\": [\\n        {\\n            \"product_description\": \"This Dell 15 laptop is a powerful computing device, featuring a 13th Generation Intel Core i7-1355U processor with 10 cores, capable of reaching speeds up to 5.00 GHz. It boasts a 15.6-inch Non-Touch FHD display, offering a smooth 120Hz refresh rate, WVA, IPS, and an anti-glare coating with 250 nits of brightness. The laptop is equipped with a robust 16GB of RAM and a spacious 1TB M.2 PCIe SSD, providing ample storage and quick performance. It comes pre-installed with Windows 11 Home, ensuring a modern and user-friendly operating system. The model number for this specific configuration is DC15250.\",\\n            \"price\": 450.00,\\n            \"url\": \"https://www.dealnews.com/products/Dell/Dell-15-13-th-Gen-i7-15-6-Laptop-w-16-GB-RAM-and-1-TB-SSD/491652.html?iref=rss-c39\"\\n        },\\n        {\\n            \"product_description\": \"The ASUS Vivobook laptop is a high-performance machine, powered by a 13th Generation Intel Core i7-1355U Raptor Lake 10-Core CPU, running at 3.7GHz. It features a large 16-inch display with a sharp 1920x1200 resolution, ideal for both work and entertainment. Memory-wise, it\\'s configured with 16GB of RAM and a spacious 1TB SSD, ensuring fast boot times and ample storage for all your applications and files. This laptop operates on Windows 11 Home, providing a streamlined and secure computing experience. Its model number is 90NB10N3-M01730.\",\\n            \"price\": 530.00,\\n            \"url\": \"https://www.dealnews.com/products/ASUS/ASUS-Vivobook-13-th-Gen-i7-16-Laptop/479623.html?iref=rss-c39\"\\n        },\\n        {\\n            \"product_description\": \"The Samsung Bespoke Jet Bot Combo is an advanced robotic cleaning solution that integrates both vacuuming and mopping capabilities. It utilizes LiDAR navigation with 3D mapping technology to efficiently map and navigate your home, ensuring comprehensive cleaning coverage. This innovative device features an All-in-One Clean Station, which handles auto-washing and auto-steaming of the mop pads, providing a truly hands-free cleaning experience. The robot also includes a floor detect feature, allowing it to intelligently adapt its cleaning method to different surfaces, and can be conveniently controlled via a dedicated app. The specific model is VR7MD96514G/AA.\",\\n            \"price\": 999.00,\\n            \"url\": \"https://www.dealnews.com/products/Samsung/Samsung-Bespoke-Jet-Bot-Combo-Robot-Vacuum-Mop-w-All-in-One-Clean-Station/490288.html?iref=rss-f1912\"\\n        },\\n        {\\n            \"product_description\": \"The eufy X10 Pro Omni is a versatile robot vacuum and mop designed for hands-free cleaning, combining powerful suction with efficient mopping. It boasts an impressive 8,000 Pa suction power, effectively capturing dust and debris from various floor types. The device is equipped with MopMaster 2.0 technology, which includes an auto-detangling roller brush, preventing hair wrap and maintaining optimal cleaning performance. Navigation is precise, thanks to its iPath laser navigation system, ensuring thorough coverage and obstacle avoidance. The accompanying all-in-one station handles self-emptying and other maintenance tasks, minimizing user intervention.\",\\n            \"price\": 500.00,\\n            \"url\": \"https://www.dealnews.com/eufy-X10-Pro-Omni-Robot-Vacuum-and-Mop-w-Station-for-500-free-shipping/21749839.html?iref=rss-f1912\"\\n        },\\n        {\\n            \"product_description\": \"The Jackery E5000 Plus Whole-Home Backup Kit is a comprehensive power solution designed to provide reliable energy for your entire home. This robust system includes two Jackery Explorer 5000 Plus Portable Power Stations, offering substantial power storage and output for various appliances. Additionally, it comes with two Jackery Battery Pack 5000 Plus Units, further extending the overall energy capacity for prolonged outages. The kit also integrates a Jackery Smart Transfer Switch, allowing for seamless transition to backup power during grid interruptions. This combination ensures a powerful and integrated energy solution for residential use.\",\\n            \"price\": 9499.00,\\n            \"url\": \"https://www.dealnews.com/Jackery-E5000-Plus-Whole-Home-Backup-Kit-Free-Gift-for-9-499-free-shipping/21751605.html?iref=rss-f1912\"\\n        }\\n    ]\\n}\\n```'\n",
      "Cleaned JSON text:\n",
      " {\n",
      "    \"deals\": [\n",
      "        {\n",
      "            \"product_description\": \"This Dell 15 laptop is a powerful computing device, featuring a 13th Generation Intel Core i7-1355U processor with 10 cores, capable of reaching speeds up to 5.00 GHz. It boasts a 15.6-inch Non-Touch FHD display, offering a smooth 120Hz refresh rate, WVA, IPS, and an anti-glare coating with 250 nits of brightness. The laptop is equipped with a robust 16GB of RAM and a spacious 1TB M.2 PCIe SSD, providing ample storage and quick performance. It comes pre-installed with Windows 11 Home, ensuring a modern and user-friendly operating system. The model number for this specific configuration is DC15250.\",\n",
      "            \"price\": 450.00,\n",
      "            \"url\": \"https://www.dealnews.com/products/Dell/Dell-15-13-th-Gen-i7-15-6-Laptop-w-16-GB-RAM-and-1-TB-SSD/491652.html?iref=rss-c39\"\n",
      "        },\n",
      "        {\n",
      "            \"product_description\": \"The ASUS Vivobook laptop is a high-performance machine, powered by a 13th Generation Intel Core i7-1355U Raptor Lake 10-Core CPU, running at 3.7GHz. It features a large 16-inch display with a sharp 1920x1200 resolution, ideal for both work and entertainment. Memory-wise, it's configured with 16GB of RAM and a spacious 1TB SSD, ensuring fast boot times and ample storage for all your applications and files. This laptop operates on Windows 11 Home, providing a streamlined and secure computing experience. Its model number is 90NB10N3-M01730.\",\n",
      "            \"price\": 530.00,\n",
      "            \"url\": \"https://www.dealnews.com/products/ASUS/ASUS-Vivobook-13-th-Gen-i7-16-Laptop/479623.html?iref=rss-c39\"\n",
      "        },\n",
      "        {\n",
      "            \"product_description\": \"The Samsung Bespoke Jet Bot Combo is an advanced robotic cleaning solution that integrates both vacuuming and mopping capabilities. It utilizes LiDAR navigation with 3D mapping technology to efficiently map and navigate your home, ensuring comprehensive cleaning coverage. This innovative device features an All-in-One Clean Station, which handles auto-washing and auto-steaming of the mop pads, providing a truly hands-free cleaning experience. The robot also includes a floor detect feature, allowing it to intelligently adapt its cleaning method to different surfaces, and can be conveniently controlled via a dedicated app. The specific model is VR7MD96514G/AA.\",\n",
      "            \"price\": 999.00,\n",
      "            \"url\": \"https://www.dealnews.com/products/Samsung/Samsung-Bespoke-Jet-Bot-Combo-Robot-Vacuum-Mop-w-All-in-One-Clean-Station/490288.html?iref=rss-f1912\"\n",
      "        },\n",
      "        {\n",
      "            \"product_description\": \"The eufy X10 Pro Omni is a versatile robot vacuum and mop designed for hands-free cleaning, combining powerful suction with efficient mopping. It boasts an impressive 8,000 Pa suction power, effectively capturing dust and debris from various floor types. The device is equipped with MopMaster 2.0 technology, which includes an auto-detangling roller brush, preventing hair wrap and maintaining optimal cleaning performance. Navigation is precise, thanks to its iPath laser navigation system, ensuring thorough coverage and obstacle avoidance. The accompanying all-in-one station handles self-emptying and other maintenance tasks, minimizing user intervention.\",\n",
      "            \"price\": 500.00,\n",
      "            \"url\": \"https://www.dealnews.com/eufy-X10-Pro-Omni-Robot-Vacuum-and-Mop-w-Station-for-500-free-shipping/21749839.html?iref=rss-f1912\"\n",
      "        },\n",
      "        {\n",
      "            \"product_description\": \"The Jackery E5000 Plus Whole-Home Backup Kit is a comprehensive power solution designed to provide reliable energy for your entire home. This robust system includes two Jackery Explorer 5000 Plus Portable Power Stations, offering substantial power storage and output for various appliances. Additionally, it comes with two Jackery Battery Pack 5000 Plus Units, further extending the overall energy capacity for prolonged outages. The kit also integrates a Jackery Smart Transfer Switch, allowing for seamless transition to backup power during grid interruptions. This combination ensures a powerful and integrated energy solution for residential use.\",\n",
      "            \"price\": 9499.00,\n",
      "            \"url\": \"https://www.dealnews.com/Jackery-E5000-Plus-Whole-Home-Backup-Kit-Free-Gift-for-9-499-free-shipping/21751605.html?iref=rss-f1912\"\n",
      "        }\n",
      "    ]\n",
      "}\n",
      "Parsed JSON type: <class 'dict'>\n",
      "Parsed keys: dict_keys(['deals'])\n"
     ]
    }
   ],
   "source": [
    "agent = ScannerAgent()\n",
    "result = agent.scan_gemini()"
   ]
  },
  {
   "cell_type": "code",
   "execution_count": 125,
   "id": "151fc2bd-6019-4508-8be6-5a02c6ef5874",
   "metadata": {},
   "outputs": [
    {
     "name": "stdout",
     "output_type": "stream",
     "text": [
      "deals=[Deal(product_description='This HP Victus laptop is a robust machine designed for demanding applications and gaming, powered by an AMD Ryzen 7 7445HS 3.1GHz 8-core CPU. It comes equipped with 16GB of RAM and a fast 512GB SSD, ensuring quick load times and efficient multitasking. The visual experience is delivered through a 15.6-inch 1920x1080 (1080p) IPS display, offering crisp images and wide viewing angles. For graphics-intensive tasks and modern games, it features a dedicated NVIDIA GeForce RTX 4050 6GB graphics card. The laptop runs on Windows 11 Home, providing a contemporary and user-friendly operating system.', price=650.0, url='https://www.dealnews.com/products/HP/HP-Victus-Ryzen-7-15-6-Laptop-w-NVIDIA-Ge-Force-RTX-4050/491498.html?iref=rss-c39'), Deal(product_description='The Dell Ultra 7 265 Slim Desktop is a compact yet powerful computing solution, featuring an Intel Core Ultra 7 265 20-Core processor that boasts a clock speed range of 1.8GHz to 5.3GHz, suitable for various performance needs. It is configured with 16GB of RAM, providing ample memory for smooth operation and multitasking. For storage, the desktop includes a 512GB SSD, which contributes to fast system responsiveness and quick access to files. The system comes pre-installed with Windows 11 Home, offering a modern and intuitive operating environment. This desktop is designed for users seeking high performance in a sleek form factor.', price=650.0, url='https://www.dealnews.com/products/Dell/Dell-Ultra-7-265-20-Core-Slim-Desktop-w-16-GB-RAM/489635.html?iref=rss-c39'), Deal(product_description='This refurbished Samsung Galaxy S21 is an unlocked 5G Android smartphone featuring a generous 256GB of internal storage. It operates on Android 11 and is powered by the robust Qualcomm SM8350 Snapdragon 888 Octa-Core Processor, ensuring smooth and responsive performance. The phone is equipped with a versatile camera system, including a 64MP telephoto lens, 12MP wide and ultra-wide cameras, and a 10MP front camera, all capable of impressive 8K video recording. Its vibrant 6.2-inch 2400x1080 touchscreen offers a high refresh rate of 120Hz, providing a fluid and engaging visual experience.', price=210.0, url='https://www.dealnews.com/products/Samsung/Unlocked-Samsung-Galaxy-S21-256-GB-5-G-Android-Smartphone/217997.html?iref=rss-c142'), Deal(product_description='The Lenovo Ideapad 1 is a functional 15.6-inch laptop with a 1080p touchscreen display, enhancing user interaction and navigation. It is equipped with an AMD Ryzen 5 7520U 2.8GHz quad-core CPU, providing reliable performance for everyday computing tasks, productivity, and web browsing. The laptop includes 8GB of RAM, facilitating efficient multitasking across various applications. Storage is handled by a 256GB SSD, which ensures quick boot times and rapid data access. This model comes with Windows 11 Home pre-installed, offering a current and user-friendly operating system experience.', price=300.0, url='https://www.dealnews.com/products/Lenovo/Lenovo-Ideapad-1-AMD-Ryzen-5-15-6-1080-p-Touchscreen-Laptop/489004.html?iref=rss-c39'), Deal(product_description='This Certified Refurbished iRobot Roomba j9+ is an advanced robot vacuum and mop designed for comprehensive and automated floor cleaning. A standout feature is its Clean Base, which intelligently empties collected debris and refills the water or cleaning solution automatically, providing up to 30 days of hands-free operation. The device incorporates a fully retractable mop function, allowing it to transition seamlessly between vacuuming and mopping without wetting carpets. Equipped with a powerful 4-stage cleaning system, it efficiently captures dirt, dust, and pet hair across various floor surfaces. This model streamlines your cleaning routine with its smart, self-managing capabilities.', price=331.0, url='https://www.dealnews.com/products/iRobot/iRobot-Roomba-j9-Self-Emptying-Auto-Fill-Robot-Vacuum-Mop/489623.html?iref=rss-f1912')]\n"
     ]
    }
   ],
   "source": [
    "print(result)"
   ]
  },
  {
   "cell_type": "code",
   "execution_count": null,
   "id": "9254f36e-e3f8-4e3f-9ab8-6890991cf738",
   "metadata": {},
   "outputs": [],
   "source": []
  }
 ],
 "metadata": {
  "kernelspec": {
   "display_name": "Python 3 (ipykernel)",
   "language": "python",
   "name": "python3"
  },
  "language_info": {
   "codemirror_mode": {
    "name": "ipython",
    "version": 3
   },
   "file_extension": ".py",
   "mimetype": "text/x-python",
   "name": "python",
   "nbconvert_exporter": "python",
   "pygments_lexer": "ipython3",
   "version": "3.11.12"
  }
 },
 "nbformat": 4,
 "nbformat_minor": 5
}
