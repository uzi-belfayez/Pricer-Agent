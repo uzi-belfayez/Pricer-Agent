{
 "cells": [
  {
   "cell_type": "code",
   "execution_count": 113,
   "id": "92a6cc95-d63f-4745-83d3-c201811607ae",
   "metadata": {},
   "outputs": [],
   "source": [
    "# imports\n",
    "\n",
    "import os\n",
    "import json\n",
    "from dotenv import load_dotenv\n",
    "import google.generativeai as genai\n",
    "from sentence_transformers import SentenceTransformer\n",
    "from agents.deals import Deal, ScrapedDeal, DealSelection\n",
    "import agents.scanner_agent"
   ]
  },
  {
   "cell_type": "code",
   "execution_count": 114,
   "id": "d97e4ee8-a979-4b0b-ad8a-3d5254737221",
   "metadata": {},
   "outputs": [],
   "source": [
    "import importlib\n",
    "import agents.deals\n",
    "importlib.reload(agents.deals)\n",
    "from agents.deals import Deal,ScrapedDeal, DealSelection"
   ]
  },
  {
   "cell_type": "code",
   "execution_count": 115,
   "id": "562e7d2c-189f-467a-bfdf-233f3ba0eccd",
   "metadata": {},
   "outputs": [
    {
     "data": {
      "text/plain": [
       "<module 'agents.scanner_agent' from 'C:\\\\Users\\\\rayen\\\\LLM Engineering\\\\pricer_agent\\\\agents\\\\scanner_agent.py'>"
      ]
     },
     "execution_count": 115,
     "metadata": {},
     "output_type": "execute_result"
    }
   ],
   "source": [
    "import importlib\n",
    "import agents.scanner_agent\n",
    "importlib.reload(agents.scanner_agent)"
   ]
  },
  {
   "cell_type": "code",
   "execution_count": 116,
   "id": "b63337b1-62a7-4391-8979-36d1bfba4d14",
   "metadata": {},
   "outputs": [],
   "source": [
    "# Initialize and constants\n",
    "\n",
    "load_dotenv(override=True)\n",
    "os.environ['OPENAI_API_KEY'] = os.getenv('OPENAI_API_KEY', 'your-key-if-not-using-env')\n",
    "MODEL = 'gemini-2.5-flash'\n",
    "genai.configure(api_key=os.getenv(\"GEMINI_API_KEY\"))"
   ]
  },
  {
   "cell_type": "code",
   "execution_count": 117,
   "id": "75e7575f-9db6-411d-9e2b-31badb835431",
   "metadata": {},
   "outputs": [
    {
     "name": "stderr",
     "output_type": "stream",
     "text": [
      "100%|████████████████████████████████████████████████████████████████████████████████████| 5/5 [01:50<00:00, 22.08s/it]\n"
     ]
    }
   ],
   "source": [
    "deals = ScrapedDeal.fetch(show_progress=True)"
   ]
  },
  {
   "cell_type": "code",
   "execution_count": 118,
   "id": "ab46cf58-9099-445a-96cd-f227930b68bf",
   "metadata": {},
   "outputs": [
    {
     "data": {
      "text/plain": [
       "50"
      ]
     },
     "execution_count": 118,
     "metadata": {},
     "output_type": "execute_result"
    }
   ],
   "source": [
    "len(deals)"
   ]
  },
  {
   "cell_type": "code",
   "execution_count": 119,
   "id": "12f05eb7-1ead-4326-92e7-f9673780a885",
   "metadata": {},
   "outputs": [
    {
     "data": {
      "text/plain": [
       "'Title: Best of Tech Deals at eBay: Up to 89% off + free shipping\\nDetails: There are lots of great discounts on new and refurbished smartphones, smart watches, headphones, soundbars, and lots more in this tech outlet at eBay. Top brands like Apple, Samsung, Sony, and Bose are included. Shop Now at eBay\\nFeatures: \\nURL: https://www.dealnews.com/Best-of-Tech-Deals-at-eBay-Up-to-89-off-free-shipping/21751562.html?iref=rss-c142'"
      ]
     },
     "execution_count": 119,
     "metadata": {},
     "output_type": "execute_result"
    }
   ],
   "source": [
    "deals[1].describe()"
   ]
  },
  {
   "cell_type": "code",
   "execution_count": 120,
   "id": "bbf2d58f-50d2-447b-950c-54a4d0e6c29e",
   "metadata": {},
   "outputs": [],
   "source": [
    "system_prompt = \"\"\"You identify and summarize the 5 most detailed deals from a list, by selecting deals that have the most detailed, high quality description and the most clear price.\n",
    "Respond strictly in JSON with no explanation, using this format. You should provide the price as a number derived from the description. If the price of a deal isn't clear, do not include that deal in your response.\n",
    "Most important is that you respond with the 5 deals that have the most detailed product description with price. It's not important to mention the terms of the deal; most important is a thorough description of the product.\n",
    "Be careful with products that are described as \"$XXX off\" or \"reduced by $XXX\" - this isn't the actual price of the product. Only respond with products when you are highly confident about the price. \n",
    "\n",
    "{\"deals\": [\n",
    "    {\n",
    "        \"product_description\": \"Your clearly expressed summary of the product in 4-5 sentences. Details of the item are much more important than why it's a good deal. Avoid mentioning discounts and coupons; focus on the item itself. There should be a paragpraph of text for each item you choose.\",\n",
    "        \"price\": 99.99,\n",
    "        \"url\": \"the url as provided\"\n",
    "    },\n",
    "    ...\n",
    "]}\"\"\""
   ]
  },
  {
   "cell_type": "code",
   "execution_count": 121,
   "id": "d3066230-c830-45c6-94e8-574afd428359",
   "metadata": {},
   "outputs": [],
   "source": [
    "user_prompt = \"\"\"Respond with the most promising 5 deals from this list, selecting those which have the most detailed, high quality product description and a clear price.\n",
    "Respond strictly in JSON, and only JSON. You should rephrase the description to be a summary of the product itself, not the terms of the deal.\n",
    "Remember to respond with a paragraph of text in the product_description field for each of the 5 items that you select.\n",
    "Be careful with products that are described as \"$XXX off\" or \"reduced by $XXX\" - this isn't the actual price of the product. Only respond with products when you are highly confident about the price. \n",
    "\n",
    "Deals:\n",
    "\n",
    "\"\"\"\n",
    "user_prompt += '\\n\\n'.join([deal.describe() for deal in deals])"
   ]
  },
  {
   "cell_type": "code",
   "execution_count": 122,
   "id": "69208c0d-181e-440c-acf8-5bc1b9bc851a",
   "metadata": {},
   "outputs": [
    {
     "name": "stdout",
     "output_type": "stream",
     "text": [
      "Respond with the most promising 5 deals from this list, selecting those which have the most detailed, high quality product description and a clear price.\n",
      "Respond strictly in JSON, and only JSON. You should rephrase the description to be a summary of the product itself, not the terms of the deal.\n",
      "Remember to respond with a paragraph of text in the product_description field for each of the 5 items that you select.\n",
      "Be careful with products that are described as \"$XXX off\" or \"reduced by $XXX\" - this isn't the actual price of the product. Only respond with products when you are highly confident about the price. \n",
      "\n",
      "Deals:\n",
      "\n",
      "Title: Apple Deals at Costco: Up to $350 off + shipping varies\n",
      "Details: Shop up to $350 off nearly 50 products from Apple. You will find deals on AirPods, iPads, Apple Watches, MacBooks, and more. Shipping varies by item. Shop Now at Costco\n",
      "Features: \n",
      "URL: https://www.dealnews.com/Apple-Deals-at-Costco-Up-to-350-off-shipping-varies/21751567.html?iref=rss-c142\n",
      "\n",
      "Title: Best of Tech Deals at eBay: Up to 89% off + free shipping\n",
      "Details: There are lots of great discounts on new and refurbished smartphones, smart watches, headphones, soundbars, and lots more in this tech outlet at eBay. Top brands like Apple, Samsung, Sony, and Bose are included. Shop Now at eBay\n",
      "Features: \n",
      "URL: https://www.dealnews.com/Best-of-Tech-Deals-at-eBay-Up-to-89-off-free-shipping/21751562.html?iref=rss-c142\n",
      "\n",
      "Title: PWRcard 2,500mAh Slim Portable Power Bank 4-Pack for $12 + free shipping\n",
      "Details: As one of the best deals today at MorningSave, get this 4-pack at 90% off. Plus, use coupon code \"DEALNEWS\" to get free shipping, an additional $8.99 savings. Buy Now at MorningSave\n",
      "Features: \n",
      "URL: https://www.dealnews.com/PWRcard-2-500-m-Ah-Slim-Portable-Power-Bank-4-Pack-for-12-free-shipping/21751427.html?iref=rss-c142\n",
      "\n",
      "Title: Walmart Deals Week TV Sale: Up to 72% off + free shipping w/ $35\n",
      "Details: There are some really strong deals to be had here, with prices on smaller models starting w\n"
     ]
    }
   ],
   "source": [
    "print(user_prompt[:2000])"
   ]
  },
  {
   "cell_type": "code",
   "execution_count": 94,
   "id": "c954484e-15ca-4e5f-b585-7ffe820910dd",
   "metadata": {},
   "outputs": [],
   "source": [
    "def get_recommendations():\n",
    "    try:\n",
    "        model = genai.GenerativeModel(MODEL)\n",
    "        response = model.generate_content(user_prompt)\n",
    "        result = response.text\n",
    "    except Exception as e :\n",
    "        self.log(f\"Gemini API Error: {e}\")\n",
    "        \n",
    "    return result"
   ]
  },
  {
   "cell_type": "code",
   "execution_count": 95,
   "id": "538e9d00-06b5-40ba-9955-9660f4d4c8e8",
   "metadata": {},
   "outputs": [],
   "source": [
    "def parse_price(price_str: str) -> float:\n",
    "    \"\"\"\n",
    "    Parse price string like \"$210\" to float\n",
    "    \"\"\"\n",
    "    if isinstance(price_str, str):\n",
    "        # Remove $ and any commas, convert to float\n",
    "        return float(price_str.replace('$', '').replace(',', ''))\n",
    "    return float(price_str)\n",
    "\n",
    "def extract_json(text: str) -> str:\n",
    "    \"\"\"\n",
    "    Extract JSON from text that might contain markdown code blocks\n",
    "    \"\"\"\n",
    "    # Remove markdown code blocks\n",
    "    text = re.sub(r'```json\\n', '', text)\n",
    "    text = re.sub(r'```\\n?', '', text)\n",
    "    text = text.strip()\n",
    "    \n",
    "    # Try to find JSON content - check for both objects {} and arrays []\n",
    "    object_start = text.find('{')\n",
    "    array_start = text.find('[')\n",
    "    \n",
    "    # Determine which comes first (or if only one exists)\n",
    "    if object_start != -1 and (array_start == -1 or object_start < array_start):\n",
    "        # JSON object\n",
    "        start = object_start\n",
    "        end = text.rfind('}') + 1\n",
    "    elif array_start != -1:\n",
    "        # JSON array\n",
    "        start = array_start\n",
    "        end = text.rfind(']') + 1\n",
    "    else:\n",
    "        # No JSON found, return as is\n",
    "        return text\n",
    "    \n",
    "    if start != -1 and end != 0:\n",
    "        return text[start:end]\n",
    "    return text\n",
    "\n",
    "def get_recommendations():\n",
    "    try:\n",
    "        # This would be your actual Gemini API call\n",
    "        model = genai.GenerativeModel(MODEL)\n",
    "        response = model.generate_content(user_prompt)\n",
    "        reply = response.text\n",
    "        \n",
    "        \n",
    "        print(\"RAW Gemini reply:\\n\", repr(reply))  # Debug: show raw text\n",
    "        clean_text = extract_json(reply)\n",
    "        print(\"Cleaned JSON text:\\n\", clean_text)  # Debug: show stripped version\n",
    "        parsed = json.loads(clean_text)\n",
    "        print(\"Parsed JSON type:\", type(parsed))  # Debug: show type\n",
    "        \n",
    "        # Determine deal list location\n",
    "        deals_data = None\n",
    "        if isinstance(parsed, dict):\n",
    "            print(\"Parsed keys:\", parsed.keys())  # Extra debug\n",
    "            for key in [\"selected_deals\", \"deals\", \"promising_deals\"]:\n",
    "                deals_data = parsed.get(key)\n",
    "                if deals_data:\n",
    "                    break\n",
    "        elif isinstance(parsed, list):\n",
    "            deals_data = parsed\n",
    "        else:\n",
    "            raise ValueError(\"Parsed JSON is not a list or dict\")\n",
    "        \n",
    "        if not deals_data:\n",
    "            raise ValueError(\"No deals found in parsed JSON\")\n",
    "        \n",
    "        deals = [\n",
    "            Deal(\n",
    "                title=deal[\"title\"],\n",
    "                product_description=deal[\"product_description\"],\n",
    "                price=parse_price(deal[\"price\"]),\n",
    "                url=deal.get(\"url\")  # Use .get() since URL might not exist\n",
    "            )\n",
    "            for deal in deals_data\n",
    "        ]\n",
    "        \n",
    "        return DealSelection(deals=deals)\n",
    "        \n",
    "    except json.JSONDecodeError as e:\n",
    "        print(f\"❌ JSON parsing error: {e}\")\n",
    "    except Exception as e:\n",
    "        print(f\"❌ Error: {e}\")\n",
    "    return None"
   ]
  },
  {
   "cell_type": "code",
   "execution_count": 96,
   "id": "53b3aecf-9c1e-4743-9ea9-ca881171c3da",
   "metadata": {},
   "outputs": [
    {
     "name": "stdout",
     "output_type": "stream",
     "text": [
      "RAW Gemini reply:\n",
      " '```json\\n[\\n  {\\n    \"title\": \"Refurb Unlocked Samsung Galaxy S21 256GB 5G Android Smartphone\",\\n    \"price\": \"$210\",\\n    \"product_description\": \"This is a refurbished Samsung Galaxy S21, an unlocked 5G Android smartphone featuring 256GB of internal storage. It runs on Android 11 and is powered by a Qualcomm SM8350 Snapdragon 888 Octa-Core Processor. The device boasts a vibrant 6.2-inch 2400x1080 120Hz touchscreen, capable of 8K video recording. For photography, it includes a versatile camera system with a 64MP telephoto lens, 12MP wide and ultra-wide cameras, and a 10MP front camera, all within model SM-G991UZAEXAA.\"\\n  },\\n  {\\n    \"title\": \"HP Victus Ryzen 7 15.6\\\\\" Laptop w/ NVIDIA GeForce RTX 4050\",\\n    \"price\": \"$650\",\\n    \"product_description\": \"The HP Victus is a high-performance 15.6-inch gaming laptop, featuring an AMD Ryzen 7 7445HS 3.1GHz 8-core CPU and NVIDIA GeForce RTX 4050 graphics with 6GB of dedicated memory, making it suitable for demanding games and creative tasks. It comes equipped with 16GB of RAM and a 512GB SSD for fast boot times and ample storage. The visual experience is delivered through a 15.6-inch 1920x1080 (1080p) IPS display, and the system runs on Windows 11 Home, identified by model 15-fb3093dx/BM4X8UA#ABA.\"\\n  },\\n  {\\n    \"title\": \"Lenovo Ideapad 1 AMD Ryzen 5 15.6\\\\\" 1080p Touchscreen Laptop\",\\n    \"price\": \"$300\",\\n    \"product_description\": \"The Lenovo Ideapad 1 is a versatile 15.6-inch laptop designed for everyday productivity and entertainment, featuring a 1080p touchscreen display. It is powered by an AMD Ryzen 5 7520U 2.8GHz quad-core CPU, complemented by 8GB of RAM and a 256GB SSD for efficient performance and quick data access. The laptop operates on Windows 11 Home, offering a modern user experience, and its model number is 82VG00TYUS.\"\\n  },\\n  {\\n    \"title\": \"Vizio 50\\\\\" MQX-Series 4K 120Hz QLED HDR10 Smart TV\",\\n    \"price\": \"$398\",\\n    \"product_description\": \"This Vizio 50-inch MQX-Series Smart TV delivers stunning visuals with its 4K resolution and a smooth 120Hz refresh rate, ideal for immersive viewing and gaming. It supports HDR10 and Dolby Vision, enhancing colors, contrast, and brightness for a more lifelike picture. As a smart TV, it offers easy access to streaming content, and its specific model is M50QXM-K01.\"\\n  },\\n  {\\n    \"title\": \"Certified Refurb iRobot Roomba j9+ Self-Emptying Robot Vacuum & Mop\",\\n    \"price\": \"$331\",\\n    \"product_description\": \"The iRobot Roomba j9+ is a certified refurbished self-emptying robot vacuum and mop designed for comprehensive floor cleaning. Its intelligent Clean Base system automatically empties collected debris and refills water or cleaning solution, allowing for up to 30 days of maintenance-free operation. This model features a fully retractable mop function, ensuring carpets stay dry, and employs a 4-stage cleaning system to effectively tackle dirt and grime on various surfaces. The specific model number is C975020.\"\\n  }\\n]\\n```'\n",
      "Cleaned JSON text:\n",
      " [\n",
      "  {\n",
      "    \"title\": \"Refurb Unlocked Samsung Galaxy S21 256GB 5G Android Smartphone\",\n",
      "    \"price\": \"$210\",\n",
      "    \"product_description\": \"This is a refurbished Samsung Galaxy S21, an unlocked 5G Android smartphone featuring 256GB of internal storage. It runs on Android 11 and is powered by a Qualcomm SM8350 Snapdragon 888 Octa-Core Processor. The device boasts a vibrant 6.2-inch 2400x1080 120Hz touchscreen, capable of 8K video recording. For photography, it includes a versatile camera system with a 64MP telephoto lens, 12MP wide and ultra-wide cameras, and a 10MP front camera, all within model SM-G991UZAEXAA.\"\n",
      "  },\n",
      "  {\n",
      "    \"title\": \"HP Victus Ryzen 7 15.6\\\" Laptop w/ NVIDIA GeForce RTX 4050\",\n",
      "    \"price\": \"$650\",\n",
      "    \"product_description\": \"The HP Victus is a high-performance 15.6-inch gaming laptop, featuring an AMD Ryzen 7 7445HS 3.1GHz 8-core CPU and NVIDIA GeForce RTX 4050 graphics with 6GB of dedicated memory, making it suitable for demanding games and creative tasks. It comes equipped with 16GB of RAM and a 512GB SSD for fast boot times and ample storage. The visual experience is delivered through a 15.6-inch 1920x1080 (1080p) IPS display, and the system runs on Windows 11 Home, identified by model 15-fb3093dx/BM4X8UA#ABA.\"\n",
      "  },\n",
      "  {\n",
      "    \"title\": \"Lenovo Ideapad 1 AMD Ryzen 5 15.6\\\" 1080p Touchscreen Laptop\",\n",
      "    \"price\": \"$300\",\n",
      "    \"product_description\": \"The Lenovo Ideapad 1 is a versatile 15.6-inch laptop designed for everyday productivity and entertainment, featuring a 1080p touchscreen display. It is powered by an AMD Ryzen 5 7520U 2.8GHz quad-core CPU, complemented by 8GB of RAM and a 256GB SSD for efficient performance and quick data access. The laptop operates on Windows 11 Home, offering a modern user experience, and its model number is 82VG00TYUS.\"\n",
      "  },\n",
      "  {\n",
      "    \"title\": \"Vizio 50\\\" MQX-Series 4K 120Hz QLED HDR10 Smart TV\",\n",
      "    \"price\": \"$398\",\n",
      "    \"product_description\": \"This Vizio 50-inch MQX-Series Smart TV delivers stunning visuals with its 4K resolution and a smooth 120Hz refresh rate, ideal for immersive viewing and gaming. It supports HDR10 and Dolby Vision, enhancing colors, contrast, and brightness for a more lifelike picture. As a smart TV, it offers easy access to streaming content, and its specific model is M50QXM-K01.\"\n",
      "  },\n",
      "  {\n",
      "    \"title\": \"Certified Refurb iRobot Roomba j9+ Self-Emptying Robot Vacuum & Mop\",\n",
      "    \"price\": \"$331\",\n",
      "    \"product_description\": \"The iRobot Roomba j9+ is a certified refurbished self-emptying robot vacuum and mop designed for comprehensive floor cleaning. Its intelligent Clean Base system automatically empties collected debris and refills water or cleaning solution, allowing for up to 30 days of maintenance-free operation. This model features a fully retractable mop function, ensuring carpets stay dry, and employs a 4-stage cleaning system to effectively tackle dirt and grime on various surfaces. The specific model number is C975020.\"\n",
      "  }\n",
      "]\n",
      "Parsed JSON type: <class 'list'>\n"
     ]
    }
   ],
   "source": [
    "result = get_recommendations()"
   ]
  },
  {
   "cell_type": "code",
   "execution_count": 97,
   "id": "6c31a29d-7c48-438c-9c71-f271d036acd2",
   "metadata": {},
   "outputs": [
    {
     "name": "stdout",
     "output_type": "stream",
     "text": [
      "deals=[Deal(product_description='This is a refurbished Samsung Galaxy S21, an unlocked 5G Android smartphone featuring 256GB of internal storage. It runs on Android 11 and is powered by a Qualcomm SM8350 Snapdragon 888 Octa-Core Processor. The device boasts a vibrant 6.2-inch 2400x1080 120Hz touchscreen, capable of 8K video recording. For photography, it includes a versatile camera system with a 64MP telephoto lens, 12MP wide and ultra-wide cameras, and a 10MP front camera, all within model SM-G991UZAEXAA.', price=210.0, url=None), Deal(product_description='The HP Victus is a high-performance 15.6-inch gaming laptop, featuring an AMD Ryzen 7 7445HS 3.1GHz 8-core CPU and NVIDIA GeForce RTX 4050 graphics with 6GB of dedicated memory, making it suitable for demanding games and creative tasks. It comes equipped with 16GB of RAM and a 512GB SSD for fast boot times and ample storage. The visual experience is delivered through a 15.6-inch 1920x1080 (1080p) IPS display, and the system runs on Windows 11 Home, identified by model 15-fb3093dx/BM4X8UA#ABA.', price=650.0, url=None), Deal(product_description='The Lenovo Ideapad 1 is a versatile 15.6-inch laptop designed for everyday productivity and entertainment, featuring a 1080p touchscreen display. It is powered by an AMD Ryzen 5 7520U 2.8GHz quad-core CPU, complemented by 8GB of RAM and a 256GB SSD for efficient performance and quick data access. The laptop operates on Windows 11 Home, offering a modern user experience, and its model number is 82VG00TYUS.', price=300.0, url=None), Deal(product_description='This Vizio 50-inch MQX-Series Smart TV delivers stunning visuals with its 4K resolution and a smooth 120Hz refresh rate, ideal for immersive viewing and gaming. It supports HDR10 and Dolby Vision, enhancing colors, contrast, and brightness for a more lifelike picture. As a smart TV, it offers easy access to streaming content, and its specific model is M50QXM-K01.', price=398.0, url=None), Deal(product_description='The iRobot Roomba j9+ is a certified refurbished self-emptying robot vacuum and mop designed for comprehensive floor cleaning. Its intelligent Clean Base system automatically empties collected debris and refills water or cleaning solution, allowing for up to 30 days of maintenance-free operation. This model features a fully retractable mop function, ensuring carpets stay dry, and employs a 4-stage cleaning system to effectively tackle dirt and grime on various surfaces. The specific model number is C975020.', price=331.0, url=None)]\n"
     ]
    }
   ],
   "source": [
    "print(result)"
   ]
  },
  {
   "cell_type": "code",
   "execution_count": 98,
   "id": "9f78fefd-98ec-4849-900e-336dc1a322d6",
   "metadata": {},
   "outputs": [
    {
     "data": {
      "text/plain": [
       "5"
      ]
     },
     "execution_count": 98,
     "metadata": {},
     "output_type": "execute_result"
    }
   ],
   "source": [
    "len(result.deals)"
   ]
  },
  {
   "cell_type": "code",
   "execution_count": 99,
   "id": "ebc087e8-2218-448b-a460-63d49e1f5bdd",
   "metadata": {},
   "outputs": [
    {
     "data": {
      "text/plain": [
       "Deal(product_description='This Vizio 50-inch MQX-Series Smart TV delivers stunning visuals with its 4K resolution and a smooth 120Hz refresh rate, ideal for immersive viewing and gaming. It supports HDR10 and Dolby Vision, enhancing colors, contrast, and brightness for a more lifelike picture. As a smart TV, it offers easy access to streaming content, and its specific model is M50QXM-K01.', price=398.0, url=None)"
      ]
     },
     "execution_count": 99,
     "metadata": {},
     "output_type": "execute_result"
    }
   ],
   "source": [
    "result.deals[3]"
   ]
  },
  {
   "cell_type": "code",
   "execution_count": 123,
   "id": "f006503b-d1ed-4a2c-a06a-13c0f37cbbb0",
   "metadata": {},
   "outputs": [],
   "source": [
    "from agents.scanner_agent import ScannerAgent"
   ]
  },
  {
   "cell_type": "code",
   "execution_count": 124,
   "id": "b289a473-a7fb-442d-8f5f-1a32f92bff9c",
   "metadata": {},
   "outputs": [
    {
     "name": "stdout",
     "output_type": "stream",
     "text": [
      "RAW Gemini reply:\n",
      " '```json\\n{\\n    \"deals\": [\\n        {\\n            \"product_description\": \"This HP Victus laptop is a robust machine designed for demanding applications and gaming, powered by an AMD Ryzen 7 7445HS 3.1GHz 8-core CPU. It comes equipped with 16GB of RAM and a fast 512GB SSD, ensuring quick load times and efficient multitasking. The visual experience is delivered through a 15.6-inch 1920x1080 (1080p) IPS display, offering crisp images and wide viewing angles. For graphics-intensive tasks and modern games, it features a dedicated NVIDIA GeForce RTX 4050 6GB graphics card. The laptop runs on Windows 11 Home, providing a contemporary and user-friendly operating system.\",\\n            \"price\": 650.00,\\n            \"url\": \"https://www.dealnews.com/products/HP/HP-Victus-Ryzen-7-15-6-Laptop-w-NVIDIA-Ge-Force-RTX-4050/491498.html?iref=rss-c39\"\\n        },\\n        {\\n            \"product_description\": \"The Dell Ultra 7 265 Slim Desktop is a compact yet powerful computing solution, featuring an Intel Core Ultra 7 265 20-Core processor that boasts a clock speed range of 1.8GHz to 5.3GHz, suitable for various performance needs. It is configured with 16GB of RAM, providing ample memory for smooth operation and multitasking. For storage, the desktop includes a 512GB SSD, which contributes to fast system responsiveness and quick access to files. The system comes pre-installed with Windows 11 Home, offering a modern and intuitive operating environment. This desktop is designed for users seeking high performance in a sleek form factor.\",\\n            \"price\": 650.00,\\n            \"url\": \"https://www.dealnews.com/products/Dell/Dell-Ultra-7-265-20-Core-Slim-Desktop-w-16-GB-RAM/489635.html?iref=rss-c39\"\\n        },\\n        {\\n            \"product_description\": \"This refurbished Samsung Galaxy S21 is an unlocked 5G Android smartphone featuring a generous 256GB of internal storage. It operates on Android 11 and is powered by the robust Qualcomm SM8350 Snapdragon 888 Octa-Core Processor, ensuring smooth and responsive performance. The phone is equipped with a versatile camera system, including a 64MP telephoto lens, 12MP wide and ultra-wide cameras, and a 10MP front camera, all capable of impressive 8K video recording. Its vibrant 6.2-inch 2400x1080 touchscreen offers a high refresh rate of 120Hz, providing a fluid and engaging visual experience.\",\\n            \"price\": 210.00,\\n            \"url\": \"https://www.dealnews.com/products/Samsung/Unlocked-Samsung-Galaxy-S21-256-GB-5-G-Android-Smartphone/217997.html?iref=rss-c142\"\\n        },\\n        {\\n            \"product_description\": \"The Lenovo Ideapad 1 is a functional 15.6-inch laptop with a 1080p touchscreen display, enhancing user interaction and navigation. It is equipped with an AMD Ryzen 5 7520U 2.8GHz quad-core CPU, providing reliable performance for everyday computing tasks, productivity, and web browsing. The laptop includes 8GB of RAM, facilitating efficient multitasking across various applications. Storage is handled by a 256GB SSD, which ensures quick boot times and rapid data access. This model comes with Windows 11 Home pre-installed, offering a current and user-friendly operating system experience.\",\\n            \"price\": 300.00,\\n            \"url\": \"https://www.dealnews.com/products/Lenovo/Lenovo-Ideapad-1-AMD-Ryzen-5-15-6-1080-p-Touchscreen-Laptop/489004.html?iref=rss-c39\"\\n        },\\n        {\\n            \"product_description\": \"This Certified Refurbished iRobot Roomba j9+ is an advanced robot vacuum and mop designed for comprehensive and automated floor cleaning. A standout feature is its Clean Base, which intelligently empties collected debris and refills the water or cleaning solution automatically, providing up to 30 days of hands-free operation. The device incorporates a fully retractable mop function, allowing it to transition seamlessly between vacuuming and mopping without wetting carpets. Equipped with a powerful 4-stage cleaning system, it efficiently captures dirt, dust, and pet hair across various floor surfaces. This model streamlines your cleaning routine with its smart, self-managing capabilities.\",\\n            \"price\": 331.00,\\n            \"url\": \"https://www.dealnews.com/products/iRobot/iRobot-Roomba-j9-Self-Emptying-Auto-Fill-Robot-Vacuum-Mop/489623.html?iref=rss-f1912\"\\n        }\\n    ]\\n}\\n```'\n",
      "Cleaned JSON text:\n",
      " {\n",
      "    \"deals\": [\n",
      "        {\n",
      "            \"product_description\": \"This HP Victus laptop is a robust machine designed for demanding applications and gaming, powered by an AMD Ryzen 7 7445HS 3.1GHz 8-core CPU. It comes equipped with 16GB of RAM and a fast 512GB SSD, ensuring quick load times and efficient multitasking. The visual experience is delivered through a 15.6-inch 1920x1080 (1080p) IPS display, offering crisp images and wide viewing angles. For graphics-intensive tasks and modern games, it features a dedicated NVIDIA GeForce RTX 4050 6GB graphics card. The laptop runs on Windows 11 Home, providing a contemporary and user-friendly operating system.\",\n",
      "            \"price\": 650.00,\n",
      "            \"url\": \"https://www.dealnews.com/products/HP/HP-Victus-Ryzen-7-15-6-Laptop-w-NVIDIA-Ge-Force-RTX-4050/491498.html?iref=rss-c39\"\n",
      "        },\n",
      "        {\n",
      "            \"product_description\": \"The Dell Ultra 7 265 Slim Desktop is a compact yet powerful computing solution, featuring an Intel Core Ultra 7 265 20-Core processor that boasts a clock speed range of 1.8GHz to 5.3GHz, suitable for various performance needs. It is configured with 16GB of RAM, providing ample memory for smooth operation and multitasking. For storage, the desktop includes a 512GB SSD, which contributes to fast system responsiveness and quick access to files. The system comes pre-installed with Windows 11 Home, offering a modern and intuitive operating environment. This desktop is designed for users seeking high performance in a sleek form factor.\",\n",
      "            \"price\": 650.00,\n",
      "            \"url\": \"https://www.dealnews.com/products/Dell/Dell-Ultra-7-265-20-Core-Slim-Desktop-w-16-GB-RAM/489635.html?iref=rss-c39\"\n",
      "        },\n",
      "        {\n",
      "            \"product_description\": \"This refurbished Samsung Galaxy S21 is an unlocked 5G Android smartphone featuring a generous 256GB of internal storage. It operates on Android 11 and is powered by the robust Qualcomm SM8350 Snapdragon 888 Octa-Core Processor, ensuring smooth and responsive performance. The phone is equipped with a versatile camera system, including a 64MP telephoto lens, 12MP wide and ultra-wide cameras, and a 10MP front camera, all capable of impressive 8K video recording. Its vibrant 6.2-inch 2400x1080 touchscreen offers a high refresh rate of 120Hz, providing a fluid and engaging visual experience.\",\n",
      "            \"price\": 210.00,\n",
      "            \"url\": \"https://www.dealnews.com/products/Samsung/Unlocked-Samsung-Galaxy-S21-256-GB-5-G-Android-Smartphone/217997.html?iref=rss-c142\"\n",
      "        },\n",
      "        {\n",
      "            \"product_description\": \"The Lenovo Ideapad 1 is a functional 15.6-inch laptop with a 1080p touchscreen display, enhancing user interaction and navigation. It is equipped with an AMD Ryzen 5 7520U 2.8GHz quad-core CPU, providing reliable performance for everyday computing tasks, productivity, and web browsing. The laptop includes 8GB of RAM, facilitating efficient multitasking across various applications. Storage is handled by a 256GB SSD, which ensures quick boot times and rapid data access. This model comes with Windows 11 Home pre-installed, offering a current and user-friendly operating system experience.\",\n",
      "            \"price\": 300.00,\n",
      "            \"url\": \"https://www.dealnews.com/products/Lenovo/Lenovo-Ideapad-1-AMD-Ryzen-5-15-6-1080-p-Touchscreen-Laptop/489004.html?iref=rss-c39\"\n",
      "        },\n",
      "        {\n",
      "            \"product_description\": \"This Certified Refurbished iRobot Roomba j9+ is an advanced robot vacuum and mop designed for comprehensive and automated floor cleaning. A standout feature is its Clean Base, which intelligently empties collected debris and refills the water or cleaning solution automatically, providing up to 30 days of hands-free operation. The device incorporates a fully retractable mop function, allowing it to transition seamlessly between vacuuming and mopping without wetting carpets. Equipped with a powerful 4-stage cleaning system, it efficiently captures dirt, dust, and pet hair across various floor surfaces. This model streamlines your cleaning routine with its smart, self-managing capabilities.\",\n",
      "            \"price\": 331.00,\n",
      "            \"url\": \"https://www.dealnews.com/products/iRobot/iRobot-Roomba-j9-Self-Emptying-Auto-Fill-Robot-Vacuum-Mop/489623.html?iref=rss-f1912\"\n",
      "        }\n",
      "    ]\n",
      "}\n",
      "Parsed JSON type: <class 'dict'>\n",
      "Parsed keys: dict_keys(['deals'])\n"
     ]
    }
   ],
   "source": [
    "agent = ScannerAgent()\n",
    "result = agent.scan_gemini()"
   ]
  },
  {
   "cell_type": "code",
   "execution_count": 125,
   "id": "151fc2bd-6019-4508-8be6-5a02c6ef5874",
   "metadata": {},
   "outputs": [
    {
     "name": "stdout",
     "output_type": "stream",
     "text": [
      "deals=[Deal(product_description='This HP Victus laptop is a robust machine designed for demanding applications and gaming, powered by an AMD Ryzen 7 7445HS 3.1GHz 8-core CPU. It comes equipped with 16GB of RAM and a fast 512GB SSD, ensuring quick load times and efficient multitasking. The visual experience is delivered through a 15.6-inch 1920x1080 (1080p) IPS display, offering crisp images and wide viewing angles. For graphics-intensive tasks and modern games, it features a dedicated NVIDIA GeForce RTX 4050 6GB graphics card. The laptop runs on Windows 11 Home, providing a contemporary and user-friendly operating system.', price=650.0, url='https://www.dealnews.com/products/HP/HP-Victus-Ryzen-7-15-6-Laptop-w-NVIDIA-Ge-Force-RTX-4050/491498.html?iref=rss-c39'), Deal(product_description='The Dell Ultra 7 265 Slim Desktop is a compact yet powerful computing solution, featuring an Intel Core Ultra 7 265 20-Core processor that boasts a clock speed range of 1.8GHz to 5.3GHz, suitable for various performance needs. It is configured with 16GB of RAM, providing ample memory for smooth operation and multitasking. For storage, the desktop includes a 512GB SSD, which contributes to fast system responsiveness and quick access to files. The system comes pre-installed with Windows 11 Home, offering a modern and intuitive operating environment. This desktop is designed for users seeking high performance in a sleek form factor.', price=650.0, url='https://www.dealnews.com/products/Dell/Dell-Ultra-7-265-20-Core-Slim-Desktop-w-16-GB-RAM/489635.html?iref=rss-c39'), Deal(product_description='This refurbished Samsung Galaxy S21 is an unlocked 5G Android smartphone featuring a generous 256GB of internal storage. It operates on Android 11 and is powered by the robust Qualcomm SM8350 Snapdragon 888 Octa-Core Processor, ensuring smooth and responsive performance. The phone is equipped with a versatile camera system, including a 64MP telephoto lens, 12MP wide and ultra-wide cameras, and a 10MP front camera, all capable of impressive 8K video recording. Its vibrant 6.2-inch 2400x1080 touchscreen offers a high refresh rate of 120Hz, providing a fluid and engaging visual experience.', price=210.0, url='https://www.dealnews.com/products/Samsung/Unlocked-Samsung-Galaxy-S21-256-GB-5-G-Android-Smartphone/217997.html?iref=rss-c142'), Deal(product_description='The Lenovo Ideapad 1 is a functional 15.6-inch laptop with a 1080p touchscreen display, enhancing user interaction and navigation. It is equipped with an AMD Ryzen 5 7520U 2.8GHz quad-core CPU, providing reliable performance for everyday computing tasks, productivity, and web browsing. The laptop includes 8GB of RAM, facilitating efficient multitasking across various applications. Storage is handled by a 256GB SSD, which ensures quick boot times and rapid data access. This model comes with Windows 11 Home pre-installed, offering a current and user-friendly operating system experience.', price=300.0, url='https://www.dealnews.com/products/Lenovo/Lenovo-Ideapad-1-AMD-Ryzen-5-15-6-1080-p-Touchscreen-Laptop/489004.html?iref=rss-c39'), Deal(product_description='This Certified Refurbished iRobot Roomba j9+ is an advanced robot vacuum and mop designed for comprehensive and automated floor cleaning. A standout feature is its Clean Base, which intelligently empties collected debris and refills the water or cleaning solution automatically, providing up to 30 days of hands-free operation. The device incorporates a fully retractable mop function, allowing it to transition seamlessly between vacuuming and mopping without wetting carpets. Equipped with a powerful 4-stage cleaning system, it efficiently captures dirt, dust, and pet hair across various floor surfaces. This model streamlines your cleaning routine with its smart, self-managing capabilities.', price=331.0, url='https://www.dealnews.com/products/iRobot/iRobot-Roomba-j9-Self-Emptying-Auto-Fill-Robot-Vacuum-Mop/489623.html?iref=rss-f1912')]\n"
     ]
    }
   ],
   "source": [
    "print(result)"
   ]
  },
  {
   "cell_type": "code",
   "execution_count": null,
   "id": "9254f36e-e3f8-4e3f-9ab8-6890991cf738",
   "metadata": {},
   "outputs": [],
   "source": []
  }
 ],
 "metadata": {
  "kernelspec": {
   "display_name": "Python 3 (ipykernel)",
   "language": "python",
   "name": "python3"
  },
  "language_info": {
   "codemirror_mode": {
    "name": "ipython",
    "version": 3
   },
   "file_extension": ".py",
   "mimetype": "text/x-python",
   "name": "python",
   "nbconvert_exporter": "python",
   "pygments_lexer": "ipython3",
   "version": "3.11.12"
  }
 },
 "nbformat": 4,
 "nbformat_minor": 5
}
