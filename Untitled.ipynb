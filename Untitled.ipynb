{
 "cells": [
  {
   "cell_type": "code",
   "execution_count": 1,
   "id": "2a987d48-ba41-4a67-9d49-fd8bae858ed8",
   "metadata": {},
   "outputs": [],
   "source": [
    "import chromadb\n",
    "DB = \"products_vectorstore\"\n",
    "client = chromadb.PersistentClient(path=DB)\n",
    "collection = client.get_or_create_collection('products')\n",
    "from agents.planning_agent import PlanningAgent"
   ]
  },
  {
   "cell_type": "code",
   "execution_count": 2,
   "id": "b21ad779-a8d0-444a-96c3-8dd9fc416c45",
   "metadata": {},
   "outputs": [],
   "source": [
    "planner = PlanningAgent(collection)"
   ]
  },
  {
   "cell_type": "code",
   "execution_count": 3,
   "id": "fcec6f6d-5fec-4d5d-9c12-d13600b3eb1c",
   "metadata": {},
   "outputs": [
    {
     "name": "stdout",
     "output_type": "stream",
     "text": [
      "❌ Error: \n",
      "  No API_KEY or ADC found. Please either:\n",
      "    - Set the `GOOGLE_API_KEY` environment variable.\n",
      "    - Manually pass the key with `genai.configure(api_key=my_api_key)`.\n",
      "    - Or set up Application Default Credentials, see https://ai.google.dev/gemini-api/docs/oauth for more information.\n"
     ]
    }
   ],
   "source": [
    "planner.plan()"
   ]
  },
  {
   "cell_type": "code",
   "execution_count": null,
   "id": "82c1aec7-cd86-41b5-89f1-df4df3c9a14b",
   "metadata": {},
   "outputs": [],
   "source": []
  }
 ],
 "metadata": {
  "kernelspec": {
   "display_name": "Python 3 (ipykernel)",
   "language": "python",
   "name": "python3"
  },
  "language_info": {
   "codemirror_mode": {
    "name": "ipython",
    "version": 3
   },
   "file_extension": ".py",
   "mimetype": "text/x-python",
   "name": "python",
   "nbconvert_exporter": "python",
   "pygments_lexer": "ipython3",
   "version": "3.11.12"
  }
 },
 "nbformat": 4,
 "nbformat_minor": 5
}
