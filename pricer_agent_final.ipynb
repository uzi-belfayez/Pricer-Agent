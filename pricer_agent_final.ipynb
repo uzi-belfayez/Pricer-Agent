{
 "cells": [
  {
   "cell_type": "code",
   "execution_count": 1,
   "id": "4d0904c3-b297-4756-97a1-896d526b86ee",
   "metadata": {},
   "outputs": [
    {
     "name": "stdout",
     "output_type": "stream",
     "text": [
      "^C\n"
     ]
    }
   ],
   "source": [
    "!python pricer_agent_script_final.py"
   ]
  },
  {
   "cell_type": "code",
   "execution_count": null,
   "id": "e37f5464-b1a1-4ddd-ac20-f1aa4c3b6a08",
   "metadata": {},
   "outputs": [],
   "source": []
  }
 ],
 "metadata": {
  "kernelspec": {
   "display_name": "Python 3 (ipykernel)",
   "language": "python",
   "name": "python3"
  },
  "language_info": {
   "codemirror_mode": {
    "name": "ipython",
    "version": 3
   },
   "file_extension": ".py",
   "mimetype": "text/x-python",
   "name": "python",
   "nbconvert_exporter": "python",
   "pygments_lexer": "ipython3",
   "version": "3.11.12"
  }
 },
 "nbformat": 4,
 "nbformat_minor": 5
}
