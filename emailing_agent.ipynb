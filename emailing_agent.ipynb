{
 "cells": [
  {
   "cell_type": "code",
   "execution_count": 18,
   "id": "ba635b4d-4e84-4bff-a776-57e7337c62d9",
   "metadata": {},
   "outputs": [
    {
     "name": "stdout",
     "output_type": "stream",
     "text": [
      "202\n",
      "b''\n",
      "Server: nginx\n",
      "Date: Sat, 12 Jul 2025 17:13:58 GMT\n",
      "Content-Length: 0\n",
      "Connection: close\n",
      "X-Message-Id: 3OGglIbRTnChRFLybL9mJA\n",
      "Access-Control-Allow-Origin: https://sendgrid.api-docs.io\n",
      "Access-Control-Allow-Methods: POST\n",
      "Access-Control-Allow-Headers: Authorization, Content-Type, On-behalf-of, x-sg-elas-acl\n",
      "Access-Control-Max-Age: 600\n",
      "X-No-CORS-Reason: https://sendgrid.com/docs/Classroom/Basics/API/cors.html\n",
      "Strict-Transport-Security: max-age=31536000; includeSubDomains\n",
      "Content-Security-Policy: frame-ancestors 'none'\n",
      "Cache-Control: no-cache\n",
      "X-Content-Type-Options: no-sniff\n",
      "Referrer-Policy: strict-origin-when-cross-origin\n",
      "\n",
      "\n"
     ]
    }
   ],
   "source": [
    "import os\n",
    "from sendgrid import SendGridAPIClient\n",
    "from sendgrid.helpers.mail import Mail\n",
    "\n",
    "message = Mail(\n",
    "    from_email='rayenbelfayez@gmail.com',\n",
    "    to_emails='rayen.belfayez@insat.ucar.tn',\n",
    "    subject='Sending with Twilio SendGrid is Fun',\n",
    "    html_content='<strong>and easy to do anywhere, even with Python</strong>')\n",
    "try:\n",
    "    sg = SendGridAPIClient(os.environ.get('SENDGRID_API_KEY'))\n",
    "    # sg.set_sendgrid_data_residency(\"eu\")\n",
    "    # uncomment the above line if you are sending mail using a regional EU subuser\n",
    "    response = sg.send(message)\n",
    "    print(response.status_code)\n",
    "    print(response.body)\n",
    "    print(response.headers)\n",
    "except Exception as e:\n",
    "    print(e.message)"
   ]
  },
  {
   "cell_type": "code",
   "execution_count": 30,
   "id": "c1b2cb9c-a169-4fe5-931d-7f5063ddc797",
   "metadata": {},
   "outputs": [],
   "source": [
    "from dotenv import load_dotenv\n",
    "from agents.emailing_agent import EmailingAgent"
   ]
  },
  {
   "cell_type": "code",
   "execution_count": 31,
   "id": "a66a80f4-9bf9-45d2-8951-8340aab7bc03",
   "metadata": {},
   "outputs": [],
   "source": [
    "import importlib\n",
    "import agents.emailing_agent\n",
    "importlib.reload(agents.emailing_agent)\n",
    "from agents.emailing_agent import EmailingAgent"
   ]
  },
  {
   "cell_type": "code",
   "execution_count": 32,
   "id": "a50d7eaf-2e32-488b-a864-c48f3d788141",
   "metadata": {},
   "outputs": [],
   "source": [
    "load_dotenv(override=True)"
   ]
  },
  {
   "cell_type": "code",
   "execution_count": 33,
   "id": "6784e3ae-c4d3-4f29-a698-0398d32303c9",
   "metadata": {},
   "outputs": [],
   "source": [
    "agent = EmailingAgent()"
   ]
  },
  {
   "cell_type": "code",
   "execution_count": 34,
   "id": "370f8a52-c4f5-4136-8789-6267f6167b28",
   "metadata": {},
   "outputs": [
    {
     "name": "stdout",
     "output_type": "stream",
     "text": [
      "[DEBUG] Status code: 202\n",
      "[DEBUG] Body: b''\n"
     ]
    }
   ],
   "source": [
    "agent.send_email('besmelleh', 'hello hello')"
   ]
  },
  {
   "cell_type": "code",
   "execution_count": null,
   "id": "8c2e9598-f63f-4b3d-be61-6a5c6411fa43",
   "metadata": {},
   "outputs": [],
   "source": []
  }
 ],
 "metadata": {
  "kernelspec": {
   "display_name": "Python 3 (ipykernel)",
   "language": "python",
   "name": "python3"
  },
  "language_info": {
   "codemirror_mode": {
    "name": "ipython",
    "version": 3
   },
   "file_extension": ".py",
   "mimetype": "text/x-python",
   "name": "python",
   "nbconvert_exporter": "python",
   "pygments_lexer": "ipython3",
   "version": "3.11.12"
  }
 },
 "nbformat": 4,
 "nbformat_minor": 5
}
