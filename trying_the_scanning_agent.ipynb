{
 "cells": [
  {
   "cell_type": "code",
   "execution_count": 58,
   "id": "92a6cc95-d63f-4745-83d3-c201811607ae",
   "metadata": {},
   "outputs": [],
   "source": [
    "# imports\n",
    "\n",
    "import os\n",
    "import json\n",
    "from dotenv import load_dotenv\n",
    "import google.generativeai as genai\n",
    "from sentence_transformers import SentenceTransformer\n",
    "from agents.deals import Deal, ScrapedDeal, DealSelection"
   ]
  },
  {
   "cell_type": "code",
   "execution_count": 60,
   "id": "d97e4ee8-a979-4b0b-ad8a-3d5254737221",
   "metadata": {},
   "outputs": [],
   "source": [
    "import importlib\n",
    "import agents.deals\n",
    "importlib.reload(agents.deals)\n",
    "from agents.deals import Deal,ScrapedDeal, DealSelection"
   ]
  },
  {
   "cell_type": "code",
   "execution_count": null,
   "id": "562e7d2c-189f-467a-bfdf-233f3ba0eccd",
   "metadata": {},
   "outputs": [],
   "source": [
    "import importlib\n",
    "import agents.scanner_agent\n",
    "importlib.reload(agents.deals)\n",
    "from agents.deals import Deal,ScrapedDeal, DealSelection"
   ]
  },
  {
   "cell_type": "code",
   "execution_count": 26,
   "id": "b63337b1-62a7-4391-8979-36d1bfba4d14",
   "metadata": {},
   "outputs": [],
   "source": [
    "# Initialize and constants\n",
    "\n",
    "load_dotenv(override=True)\n",
    "os.environ['OPENAI_API_KEY'] = os.getenv('OPENAI_API_KEY', 'your-key-if-not-using-env')\n",
    "MODEL = 'gemini-2.5-flash'\n",
    "genai.configure(api_key=os.getenv(\"GEMINI_API_KEY\"))"
   ]
  },
  {
   "cell_type": "code",
   "execution_count": 27,
   "id": "75e7575f-9db6-411d-9e2b-31badb835431",
   "metadata": {},
   "outputs": [
    {
     "name": "stderr",
     "output_type": "stream",
     "text": [
      "100%|████████████████████████████████████████████████████████████████████████████████████| 5/5 [01:59<00:00, 23.94s/it]\n"
     ]
    }
   ],
   "source": [
    "deals = ScrapedDeal.fetch(show_progress=True)"
   ]
  },
  {
   "cell_type": "code",
   "execution_count": 28,
   "id": "ab46cf58-9099-445a-96cd-f227930b68bf",
   "metadata": {},
   "outputs": [
    {
     "data": {
      "text/plain": [
       "50"
      ]
     },
     "execution_count": 28,
     "metadata": {},
     "output_type": "execute_result"
    }
   ],
   "source": [
    "len(deals)"
   ]
  },
  {
   "cell_type": "code",
   "execution_count": 29,
   "id": "12f05eb7-1ead-4326-92e7-f9673780a885",
   "metadata": {},
   "outputs": [
    {
     "data": {
      "text/plain": [
       "'Title: Walmart Deals Week TV Sale: Up to 72% off + free shipping w/ $35\\nDetails: There are some really strong deals to be had here, with prices on smaller models starting well below $100. We\\'ve Samsung Q60DB\\xa0Series QN75Q60DBFXZA\\xa075\" Class 4K HDR 10+ QLED Smart TV for $797.99 ($400 off.) Shop Now at Walmart\\nFeatures: \\nURL: https://www.dealnews.com/Walmart-Deals-Week-TV-Sale-Up-to-72-off-free-shipping-w-35/21751254.html?iref=rss-c142'"
      ]
     },
     "execution_count": 29,
     "metadata": {},
     "output_type": "execute_result"
    }
   ],
   "source": [
    "deals[1].describe()"
   ]
  },
  {
   "cell_type": "code",
   "execution_count": 30,
   "id": "bbf2d58f-50d2-447b-950c-54a4d0e6c29e",
   "metadata": {},
   "outputs": [],
   "source": [
    "system_prompt = \"\"\"You identify and summarize the 5 most detailed deals from a list, by selecting deals that have the most detailed, high quality description and the most clear price.\n",
    "Respond strictly in JSON with no explanation, using this format. You should provide the price as a number derived from the description. If the price of a deal isn't clear, do not include that deal in your response.\n",
    "Most important is that you respond with the 5 deals that have the most detailed product description with price. It's not important to mention the terms of the deal; most important is a thorough description of the product.\n",
    "Be careful with products that are described as \"$XXX off\" or \"reduced by $XXX\" - this isn't the actual price of the product. Only respond with products when you are highly confident about the price. \n",
    "\n",
    "{\"deals\": [\n",
    "    {\n",
    "        \"product_description\": \"Your clearly expressed summary of the product in 4-5 sentences. Details of the item are much more important than why it's a good deal. Avoid mentioning discounts and coupons; focus on the item itself. There should be a paragpraph of text for each item you choose.\",\n",
    "        \"price\": 99.99,\n",
    "        \"url\": \"the url as provided\"\n",
    "    },\n",
    "    ...\n",
    "]}\"\"\""
   ]
  },
  {
   "cell_type": "code",
   "execution_count": 31,
   "id": "d3066230-c830-45c6-94e8-574afd428359",
   "metadata": {},
   "outputs": [],
   "source": [
    "user_prompt = \"\"\"Respond with the most promising 5 deals from this list, selecting those which have the most detailed, high quality product description and a clear price.\n",
    "Respond strictly in JSON, and only JSON. You should rephrase the description to be a summary of the product itself, not the terms of the deal.\n",
    "Remember to respond with a paragraph of text in the product_description field for each of the 5 items that you select.\n",
    "Be careful with products that are described as \"$XXX off\" or \"reduced by $XXX\" - this isn't the actual price of the product. Only respond with products when you are highly confident about the price. \n",
    "\n",
    "Deals:\n",
    "\n",
    "\"\"\"\n",
    "user_prompt += '\\n\\n'.join([deal.describe() for deal in deals])"
   ]
  },
  {
   "cell_type": "code",
   "execution_count": 32,
   "id": "69208c0d-181e-440c-acf8-5bc1b9bc851a",
   "metadata": {},
   "outputs": [
    {
     "name": "stdout",
     "output_type": "stream",
     "text": [
      "Respond with the most promising 5 deals from this list, selecting those which have the most detailed, high quality product description and a clear price.\n",
      "Respond strictly in JSON, and only JSON. You should rephrase the description to be a summary of the product itself, not the terms of the deal.\n",
      "Remember to respond with a paragraph of text in the product_description field for each of the 5 items that you select.\n",
      "Be careful with products that are described as \"$XXX off\" or \"reduced by $XXX\" - this isn't the actual price of the product. Only respond with products when you are highly confident about the price. \n",
      "\n",
      "Deals:\n",
      "\n",
      "Title: PWRcard 2,500mAh Slim Portable Power Bank 4-Pack for $12 + free shipping\n",
      "Details: As one of the best deals today at MorningSave, get this 4-pack at 90% off. Plus, use coupon code \"DEALNEWS\" to get free shipping, an additional $8.99 savings. Buy Now at MorningSave\n",
      "Features: \n",
      "URL: https://www.dealnews.com/PWRcard-2-500-m-Ah-Slim-Portable-Power-Bank-4-Pack-for-12-free-shipping/21751427.html?iref=rss-c142\n",
      "\n",
      "Title: Walmart Deals Week TV Sale: Up to 72% off + free shipping w/ $35\n",
      "Details: There are some really strong deals to be had here, with prices on smaller models starting well below $100. We've Samsung Q60DB Series QN75Q60DBFXZA 75\" Class 4K HDR 10+ QLED Smart TV for $797.99 ($400 off.) Shop Now at Walmart\n",
      "Features: \n",
      "URL: https://www.dealnews.com/Walmart-Deals-Week-TV-Sale-Up-to-72-off-free-shipping-w-35/21751254.html?iref=rss-c142\n",
      "\n",
      "Title: Refurb Unlocked Samsung Galaxy S21 256GB 5G Android Smartphone for $210\n",
      "Details: You'd pay $30 more for the phone in this condition at Amazon. A 1-year Allstate warranty applies. Buy Now at eBay\n",
      "Features: Android 11 8K video recording 6.2\" 2400x1080 120Hz touchscreen Qualcomm SM8350 Snapdragon 888 Octa-Core Processor 64MP telephoto camera, 12MP wide & ultra-wide cameras, 10MP front camera Model: SM-G991UZAEXAA\n",
      "URL: https://www.dealnews.com/products/Samsung/Unlocked-Samsung-Galaxy-S21-256-GB-5-G-Android-Smartphone\n"
     ]
    }
   ],
   "source": [
    "print(user_prompt[:2000])"
   ]
  },
  {
   "cell_type": "code",
   "execution_count": 33,
   "id": "c954484e-15ca-4e5f-b585-7ffe820910dd",
   "metadata": {},
   "outputs": [],
   "source": [
    "def get_recommendations():\n",
    "    try:\n",
    "        model = genai.GenerativeModel(MODEL)\n",
    "        response = model.generate_content(user_prompt)\n",
    "        result = response.text\n",
    "    except Exception as e :\n",
    "        self.log(f\"Gemini API Error: {e}\")\n",
    "        \n",
    "    return result"
   ]
  },
  {
   "cell_type": "code",
   "execution_count": 65,
   "id": "538e9d00-06b5-40ba-9955-9660f4d4c8e8",
   "metadata": {},
   "outputs": [],
   "source": [
    "def parse_price(price_str: str) -> float:\n",
    "    \"\"\"\n",
    "    Parse price string like \"$210\" to float\n",
    "    \"\"\"\n",
    "    if isinstance(price_str, str):\n",
    "        # Remove $ and any commas, convert to float\n",
    "        return float(price_str.replace('$', '').replace(',', ''))\n",
    "    return float(price_str)\n",
    "\n",
    "def extract_json(text: str) -> str:\n",
    "    \"\"\"\n",
    "    Extract JSON from text that might contain markdown code blocks\n",
    "    \"\"\"\n",
    "    # Remove markdown code blocks\n",
    "    text = re.sub(r'```json\\n', '', text)\n",
    "    text = re.sub(r'```\\n?', '', text)\n",
    "    text = text.strip()\n",
    "    \n",
    "    # Try to find JSON content - check for both objects {} and arrays []\n",
    "    object_start = text.find('{')\n",
    "    array_start = text.find('[')\n",
    "    \n",
    "    # Determine which comes first (or if only one exists)\n",
    "    if object_start != -1 and (array_start == -1 or object_start < array_start):\n",
    "        # JSON object\n",
    "        start = object_start\n",
    "        end = text.rfind('}') + 1\n",
    "    elif array_start != -1:\n",
    "        # JSON array\n",
    "        start = array_start\n",
    "        end = text.rfind(']') + 1\n",
    "    else:\n",
    "        # No JSON found, return as is\n",
    "        return text\n",
    "    \n",
    "    if start != -1 and end != 0:\n",
    "        return text[start:end]\n",
    "    return text\n",
    "\n",
    "def get_recommendations():\n",
    "    try:\n",
    "        # This would be your actual Gemini API call\n",
    "        model = genai.GenerativeModel(MODEL)\n",
    "        response = model.generate_content(user_prompt)\n",
    "        reply = response.text\n",
    "        \n",
    "        \n",
    "        print(\"RAW Gemini reply:\\n\", repr(reply))  # Debug: show raw text\n",
    "        clean_text = extract_json(reply)\n",
    "        print(\"Cleaned JSON text:\\n\", clean_text)  # Debug: show stripped version\n",
    "        parsed = json.loads(clean_text)\n",
    "        print(\"Parsed JSON type:\", type(parsed))  # Debug: show type\n",
    "        \n",
    "        # Determine deal list location\n",
    "        deals_data = None\n",
    "        if isinstance(parsed, dict):\n",
    "            print(\"Parsed keys:\", parsed.keys())  # Extra debug\n",
    "            for key in [\"selected_deals\", \"deals\", \"promising_deals\"]:\n",
    "                deals_data = parsed.get(key)\n",
    "                if deals_data:\n",
    "                    break\n",
    "        elif isinstance(parsed, list):\n",
    "            deals_data = parsed\n",
    "        else:\n",
    "            raise ValueError(\"Parsed JSON is not a list or dict\")\n",
    "        \n",
    "        if not deals_data:\n",
    "            raise ValueError(\"No deals found in parsed JSON\")\n",
    "        \n",
    "        deals = [\n",
    "            Deal(\n",
    "                title=deal[\"title\"],\n",
    "                product_description=deal[\"product_description\"],\n",
    "                price=parse_price(deal[\"price\"]),\n",
    "                url=deal.get(\"url\")  # Use .get() since URL might not exist\n",
    "            )\n",
    "            for deal in deals_data\n",
    "        ]\n",
    "        \n",
    "        return DealSelection(deals=deals)\n",
    "        \n",
    "    except json.JSONDecodeError as e:\n",
    "        print(f\"❌ JSON parsing error: {e}\")\n",
    "    except Exception as e:\n",
    "        print(f\"❌ Error: {e}\")\n",
    "    return None"
   ]
  },
  {
   "cell_type": "code",
   "execution_count": 66,
   "id": "53b3aecf-9c1e-4743-9ea9-ca881171c3da",
   "metadata": {},
   "outputs": [
    {
     "name": "stdout",
     "output_type": "stream",
     "text": [
      "RAW Gemini reply:\n",
      " '```json\\n[\\n  {\\n    \"title\": \"Refurb Unlocked Samsung Galaxy S21 256GB 5G Android Smartphone\",\\n    \"price\": \"$210\",\\n    \"product_description\": \"This is a refurbished Samsung Galaxy S21, an unlocked 5G Android smartphone featuring Android 11. It\\'s equipped with a powerful Qualcomm SM8350 Snapdragon 888 Octa-Core Processor, enabling 8K video recording. The device boasts a vibrant 6.2-inch 2400x1080 120Hz touchscreen display. For photography, it includes a versatile camera system with a 64MP telephoto lens, 12MP wide and ultra-wide cameras, and a 10MP front camera. The specific model is SM-G991UZAEXAA.\"\\n  },\\n  {\\n    \"title\": \"HP Victus Ryzen 7 15.6\\\\\" Laptop w/ NVIDIA GeForce RTX 4050\",\\n    \"price\": \"$650\",\\n    \"product_description\": \"The HP Victus is a high-performance 15.6-inch laptop designed for gaming and demanding tasks. It is powered by an AMD Ryzen 7 7445HS 3.1GHz 8-core CPU, complemented by 16GB of RAM and a 512GB SSD for fast storage and multitasking. The visual experience is enhanced by a 15.6-inch 1920x1080 (1080p) IPS display, and for graphics-intensive applications, it features a dedicated NVIDIA GeForce RTX 4050 6GB graphics card. The laptop runs on Windows 11 Home, with model number 15-fb3093dx/BM4X8UA#ABA.\"\\n  },\\n  {\\n    \"title\": \"Certified Refurb iRobot Roomba j9+ Self-Emptying Robot Vacuum & Mop\",\\n    \"price\": \"$331\",\\n    \"product_description\": \"The iRobot Roomba j9+ is a certified refurbished advanced robot vacuum and mop designed for comprehensive floor cleaning. It features a Clean Base that automatically empties debris from the vacuum and refills water or cleaning solution for the mop, allowing for up to 30 days of hands-free cleaning. This model includes a fully retractable mop function, ensuring carpets stay dry when cleaning hard floors, and employs a 4-stage cleaning system for thorough dirt and debris removal. The model number is C975020.\"\\n  },\\n  {\\n    \"title\": \"Birdfy Smart Bird Feeder with Camera and AI Species Identification\",\\n    \"price\": \"$106\",\\n    \"product_description\": \"The Birdfy Smart Bird Feeder offers a unique way to observe local wildlife with its integrated camera and advanced AI species identification. It requires a 2.4GHz Wi-Fi router for connectivity, allowing users to stream and record full HD 1080p video with a 135° wide-angle lens. The feeder also features night vision, ensuring clear footage day or night, and its AI can identify thousands of different bird species. This smart feeder model is known as Birdfy Netvue2.\"\\n  },\\n  {\\n    \"title\": \"Keurig K-Supreme Smart Coffee Maker\",\\n    \"price\": \"$119\",\\n    \"product_description\": \"The Keurig K-Supreme Smart Coffee Maker brings convenience and customization to your daily brew. It is WiFi-enabled and features BrewID technology, which intelligently customizes brew settings based on your specific K-Cup pod. Users can select from five strength settings and six temperature settings to tailor their coffee exactly to their preference. Utilizing MultiStream technology, the brewer supports four popular cup sizes: 6-oz, 8-oz, 10-oz, and 12-oz. Furthermore, the Keurig app allows for remote brewing and scheduling, providing unparalleled flexibility.\"\\n  }\\n]\\n```'\n",
      "Cleaned JSON text:\n",
      " [\n",
      "  {\n",
      "    \"title\": \"Refurb Unlocked Samsung Galaxy S21 256GB 5G Android Smartphone\",\n",
      "    \"price\": \"$210\",\n",
      "    \"product_description\": \"This is a refurbished Samsung Galaxy S21, an unlocked 5G Android smartphone featuring Android 11. It's equipped with a powerful Qualcomm SM8350 Snapdragon 888 Octa-Core Processor, enabling 8K video recording. The device boasts a vibrant 6.2-inch 2400x1080 120Hz touchscreen display. For photography, it includes a versatile camera system with a 64MP telephoto lens, 12MP wide and ultra-wide cameras, and a 10MP front camera. The specific model is SM-G991UZAEXAA.\"\n",
      "  },\n",
      "  {\n",
      "    \"title\": \"HP Victus Ryzen 7 15.6\\\" Laptop w/ NVIDIA GeForce RTX 4050\",\n",
      "    \"price\": \"$650\",\n",
      "    \"product_description\": \"The HP Victus is a high-performance 15.6-inch laptop designed for gaming and demanding tasks. It is powered by an AMD Ryzen 7 7445HS 3.1GHz 8-core CPU, complemented by 16GB of RAM and a 512GB SSD for fast storage and multitasking. The visual experience is enhanced by a 15.6-inch 1920x1080 (1080p) IPS display, and for graphics-intensive applications, it features a dedicated NVIDIA GeForce RTX 4050 6GB graphics card. The laptop runs on Windows 11 Home, with model number 15-fb3093dx/BM4X8UA#ABA.\"\n",
      "  },\n",
      "  {\n",
      "    \"title\": \"Certified Refurb iRobot Roomba j9+ Self-Emptying Robot Vacuum & Mop\",\n",
      "    \"price\": \"$331\",\n",
      "    \"product_description\": \"The iRobot Roomba j9+ is a certified refurbished advanced robot vacuum and mop designed for comprehensive floor cleaning. It features a Clean Base that automatically empties debris from the vacuum and refills water or cleaning solution for the mop, allowing for up to 30 days of hands-free cleaning. This model includes a fully retractable mop function, ensuring carpets stay dry when cleaning hard floors, and employs a 4-stage cleaning system for thorough dirt and debris removal. The model number is C975020.\"\n",
      "  },\n",
      "  {\n",
      "    \"title\": \"Birdfy Smart Bird Feeder with Camera and AI Species Identification\",\n",
      "    \"price\": \"$106\",\n",
      "    \"product_description\": \"The Birdfy Smart Bird Feeder offers a unique way to observe local wildlife with its integrated camera and advanced AI species identification. It requires a 2.4GHz Wi-Fi router for connectivity, allowing users to stream and record full HD 1080p video with a 135° wide-angle lens. The feeder also features night vision, ensuring clear footage day or night, and its AI can identify thousands of different bird species. This smart feeder model is known as Birdfy Netvue2.\"\n",
      "  },\n",
      "  {\n",
      "    \"title\": \"Keurig K-Supreme Smart Coffee Maker\",\n",
      "    \"price\": \"$119\",\n",
      "    \"product_description\": \"The Keurig K-Supreme Smart Coffee Maker brings convenience and customization to your daily brew. It is WiFi-enabled and features BrewID technology, which intelligently customizes brew settings based on your specific K-Cup pod. Users can select from five strength settings and six temperature settings to tailor their coffee exactly to their preference. Utilizing MultiStream technology, the brewer supports four popular cup sizes: 6-oz, 8-oz, 10-oz, and 12-oz. Furthermore, the Keurig app allows for remote brewing and scheduling, providing unparalleled flexibility.\"\n",
      "  }\n",
      "]\n",
      "Parsed JSON type: <class 'list'>\n"
     ]
    }
   ],
   "source": [
    "result = get_recommendations()"
   ]
  },
  {
   "cell_type": "code",
   "execution_count": 67,
   "id": "6c31a29d-7c48-438c-9c71-f271d036acd2",
   "metadata": {},
   "outputs": [
    {
     "name": "stdout",
     "output_type": "stream",
     "text": [
      "deals=[Deal(product_description=\"This is a refurbished Samsung Galaxy S21, an unlocked 5G Android smartphone featuring Android 11. It's equipped with a powerful Qualcomm SM8350 Snapdragon 888 Octa-Core Processor, enabling 8K video recording. The device boasts a vibrant 6.2-inch 2400x1080 120Hz touchscreen display. For photography, it includes a versatile camera system with a 64MP telephoto lens, 12MP wide and ultra-wide cameras, and a 10MP front camera. The specific model is SM-G991UZAEXAA.\", price=210.0, url=None), Deal(product_description='The HP Victus is a high-performance 15.6-inch laptop designed for gaming and demanding tasks. It is powered by an AMD Ryzen 7 7445HS 3.1GHz 8-core CPU, complemented by 16GB of RAM and a 512GB SSD for fast storage and multitasking. The visual experience is enhanced by a 15.6-inch 1920x1080 (1080p) IPS display, and for graphics-intensive applications, it features a dedicated NVIDIA GeForce RTX 4050 6GB graphics card. The laptop runs on Windows 11 Home, with model number 15-fb3093dx/BM4X8UA#ABA.', price=650.0, url=None), Deal(product_description='The iRobot Roomba j9+ is a certified refurbished advanced robot vacuum and mop designed for comprehensive floor cleaning. It features a Clean Base that automatically empties debris from the vacuum and refills water or cleaning solution for the mop, allowing for up to 30 days of hands-free cleaning. This model includes a fully retractable mop function, ensuring carpets stay dry when cleaning hard floors, and employs a 4-stage cleaning system for thorough dirt and debris removal. The model number is C975020.', price=331.0, url=None), Deal(product_description='The Birdfy Smart Bird Feeder offers a unique way to observe local wildlife with its integrated camera and advanced AI species identification. It requires a 2.4GHz Wi-Fi router for connectivity, allowing users to stream and record full HD 1080p video with a 135° wide-angle lens. The feeder also features night vision, ensuring clear footage day or night, and its AI can identify thousands of different bird species. This smart feeder model is known as Birdfy Netvue2.', price=106.0, url=None), Deal(product_description='The Keurig K-Supreme Smart Coffee Maker brings convenience and customization to your daily brew. It is WiFi-enabled and features BrewID technology, which intelligently customizes brew settings based on your specific K-Cup pod. Users can select from five strength settings and six temperature settings to tailor their coffee exactly to their preference. Utilizing MultiStream technology, the brewer supports four popular cup sizes: 6-oz, 8-oz, 10-oz, and 12-oz. Furthermore, the Keurig app allows for remote brewing and scheduling, providing unparalleled flexibility.', price=119.0, url=None)]\n"
     ]
    }
   ],
   "source": [
    "print(result)"
   ]
  },
  {
   "cell_type": "code",
   "execution_count": 68,
   "id": "9f78fefd-98ec-4849-900e-336dc1a322d6",
   "metadata": {},
   "outputs": [
    {
     "data": {
      "text/plain": [
       "5"
      ]
     },
     "execution_count": 68,
     "metadata": {},
     "output_type": "execute_result"
    }
   ],
   "source": [
    "len(result.deals)"
   ]
  },
  {
   "cell_type": "code",
   "execution_count": 75,
   "id": "ebc087e8-2218-448b-a460-63d49e1f5bdd",
   "metadata": {},
   "outputs": [
    {
     "data": {
      "text/plain": [
       "Deal(product_description='The Birdfy Smart Bird Feeder offers a unique way to observe local wildlife with its integrated camera and advanced AI species identification. It requires a 2.4GHz Wi-Fi router for connectivity, allowing users to stream and record full HD 1080p video with a 135° wide-angle lens. The feeder also features night vision, ensuring clear footage day or night, and its AI can identify thousands of different bird species. This smart feeder model is known as Birdfy Netvue2.', price=106.0, url=None)"
      ]
     },
     "execution_count": 75,
     "metadata": {},
     "output_type": "execute_result"
    }
   ],
   "source": [
    "result.deals[3]"
   ]
  },
  {
   "cell_type": "code",
   "execution_count": 79,
   "id": "f006503b-d1ed-4a2c-a06a-13c0f37cbbb0",
   "metadata": {},
   "outputs": [],
   "source": [
    "from agents.scanner_agent import ScannerAgent"
   ]
  },
  {
   "cell_type": "code",
   "execution_count": 80,
   "id": "b289a473-a7fb-442d-8f5f-1a32f92bff9c",
   "metadata": {},
   "outputs": [
    {
     "ename": "NameError",
     "evalue": "name 'collection' is not defined",
     "output_type": "error",
     "traceback": [
      "\u001b[31m---------------------------------------------------------------------------\u001b[39m",
      "\u001b[31mNameError\u001b[39m                                 Traceback (most recent call last)",
      "\u001b[36mCell\u001b[39m\u001b[36m \u001b[39m\u001b[32mIn[80]\u001b[39m\u001b[32m, line 1\u001b[39m\n\u001b[32m----> \u001b[39m\u001b[32m1\u001b[39m agent = \u001b[43mScannerAgent\u001b[49m\u001b[43m(\u001b[49m\u001b[43m)\u001b[49m\n\u001b[32m      2\u001b[39m result = agent.scan_gemini()\n",
      "\u001b[36mFile \u001b[39m\u001b[32m~\\LLM Engineering\\pricer_agent\\agents\\scanner_agent.py:47\u001b[39m, in \u001b[36mScannerAgent.__init__\u001b[39m\u001b[34m(self)\u001b[39m\n\u001b[32m     45\u001b[39m \u001b[38;5;28mself\u001b[39m.genai = genai\n\u001b[32m     46\u001b[39m \u001b[38;5;28mself\u001b[39m.model = SentenceTransformer(\u001b[33m\"\u001b[39m\u001b[33mall-MiniLM-L6-v2\u001b[39m\u001b[33m\"\u001b[39m)\n\u001b[32m---> \u001b[39m\u001b[32m47\u001b[39m \u001b[38;5;28mself\u001b[39m.collection = \u001b[43mcollection\u001b[49m\n\u001b[32m     48\u001b[39m \u001b[38;5;28mself\u001b[39m.log(\u001b[33m\"\u001b[39m\u001b[33mScanner Agent is ready\u001b[39m\u001b[33m\"\u001b[39m)\n",
      "\u001b[31mNameError\u001b[39m: name 'collection' is not defined"
     ]
    }
   ],
   "source": [
    "agent = ScannerAgent()\n",
    "result = agent.scan_gemini()"
   ]
  },
  {
   "cell_type": "code",
   "execution_count": null,
   "id": "151fc2bd-6019-4508-8be6-5a02c6ef5874",
   "metadata": {},
   "outputs": [],
   "source": []
  }
 ],
 "metadata": {
  "kernelspec": {
   "display_name": "Python 3 (ipykernel)",
   "language": "python",
   "name": "python3"
  },
  "language_info": {
   "codemirror_mode": {
    "name": "ipython",
    "version": 3
   },
   "file_extension": ".py",
   "mimetype": "text/x-python",
   "name": "python",
   "nbconvert_exporter": "python",
   "pygments_lexer": "ipython3",
   "version": "3.11.12"
  }
 },
 "nbformat": 4,
 "nbformat_minor": 5
}
