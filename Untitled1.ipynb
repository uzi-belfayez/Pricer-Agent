{
 "cells": [
  {
   "cell_type": "code",
   "execution_count": null,
   "id": "7d895242-0740-421c-8f38-6912e3ca61d3",
   "metadata": {},
   "outputs": [],
   "source": [
    "!python pricer_agent_script_final.py"
   ]
  },
  {
   "cell_type": "code",
   "execution_count": null,
   "id": "89d06500-5c4a-4fc9-9346-d4edaa30d997",
   "metadata": {},
   "outputs": [],
   "source": []
  }
 ],
 "metadata": {
  "kernelspec": {
   "display_name": "Python 3 (ipykernel)",
   "language": "python",
   "name": "python3"
  },
  "language_info": {
   "codemirror_mode": {
    "name": "ipython",
    "version": 3
   },
   "file_extension": ".py",
   "mimetype": "text/x-python",
   "name": "python",
   "nbconvert_exporter": "python",
   "pygments_lexer": "ipython3",
   "version": "3.11.12"
  }
 },
 "nbformat": 4,
 "nbformat_minor": 5
}
